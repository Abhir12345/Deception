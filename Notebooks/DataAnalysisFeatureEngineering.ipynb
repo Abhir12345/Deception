{
 "cells": [
  {
   "cell_type": "code",
   "execution_count": 3,
   "id": "f1e7db09",
   "metadata": {},
   "outputs": [
    {
     "name": "stderr",
     "output_type": "stream",
     "text": [
      "d:\\Anaconda\\envs\\DeceptionNLP\\Lib\\site-packages\\tqdm\\auto.py:21: TqdmWarning: IProgress not found. Please update jupyter and ipywidgets. See https://ipywidgets.readthedocs.io/en/stable/user_install.html\n",
      "  from .autonotebook import tqdm as notebook_tqdm\n"
     ]
    }
   ],
   "source": [
    "# Core data handling & ML\n",
    "import pandas as pd\n",
    "import numpy as np\n",
    "import sklearn               # for model pipelines, metrics, preprocessing\n",
    "import xgboost               # for XGBoost classifier\n",
    "import swifter               # for accelerating DataFrame.apply\n",
    "\n",
    "# Text processing & tokenization\n",
    "import re                    # regex-based counts\n",
    "import nltk                  # tokenization, stopword lists if needed\n",
    "import spacy                 # POS tagging, NER\n",
    "from spacy.lang.en import English\n",
    "from langdetect import detect\n",
    "import aiohttp               # async HTTP if needed for scraping\n",
    "import nest_asyncio          # for running async code in notebooks\n",
    "\n",
    "# Psycholinguistic & lexicon-based features\n",
    "from empath import Empath    # LIWC-style category counts\n",
    "from vaderSentiment.vaderSentiment import SentimentIntensityAnalyzer\n",
    "from textblob import TextBlob\n",
    "import textstat              # readability metrics\n",
    "\n",
    "# Sentiment & subjectivity\n",
    "from vaderSentiment.vaderSentiment import SentimentIntensityAnalyzer\n",
    "from textblob import TextBlob\n",
    "\n",
    "# Readability indices\n",
    "import textstat     \n",
    "\n",
    "# Regex-based punctuation & case features\n",
    "import re\n",
    "\n",
    "# Model interpretability\n",
    "import shap\n",
    "\n",
    "# Progress bars & visualization\n",
    "from tqdm import tqdm\n",
    "import matplotlib.pyplot as plt\n",
    "import seaborn as sns\n",
    "import yellowbrick            # model diagnostics\n",
    "import wordcloud\n",
    "\n",
    "# Notebook utilities\n",
    "%load_ext autoreload\n",
    "%autoreload 2\n"
   ]
  },
  {
   "cell_type": "code",
   "execution_count": 4,
   "id": "45c02ebd",
   "metadata": {},
   "outputs": [],
   "source": [
    "import swifter\n",
    "import os"
   ]
  },
  {
   "cell_type": "code",
   "execution_count": 5,
   "id": "641b9089",
   "metadata": {},
   "outputs": [],
   "source": [
    "sns.set_theme(style=\"whitegrid\", palette=\"muted\", font_scale=1.2)"
   ]
  },
  {
   "cell_type": "markdown",
   "id": "6d3b0f28",
   "metadata": {},
   "source": [
    "This notebook is containing the feature analysis, and feature engineering of the dataset.  "
   ]
  },
  {
   "cell_type": "markdown",
   "id": "1756012f",
   "metadata": {},
   "source": [
    "### Loading the dataset. "
   ]
  },
  {
   "cell_type": "code",
   "execution_count": 6,
   "id": "99521b0e",
   "metadata": {},
   "outputs": [],
   "source": [
    "df = pd.read_csv('../Dataset/WELFake_Dataset.csv')"
   ]
  },
  {
   "cell_type": "code",
   "execution_count": 7,
   "id": "8df76c6b",
   "metadata": {},
   "outputs": [],
   "source": [
    "df.drop(columns = ['Unnamed: 0'], inplace = True)"
   ]
  },
  {
   "cell_type": "code",
   "execution_count": 8,
   "id": "634c38e8",
   "metadata": {},
   "outputs": [
    {
     "data": {
      "application/vnd.microsoft.datawrangler.viewer.v0+json": {
       "columns": [
        {
         "name": "index",
         "rawType": "int64",
         "type": "integer"
        },
        {
         "name": "title",
         "rawType": "object",
         "type": "string"
        },
        {
         "name": "text",
         "rawType": "object",
         "type": "string"
        },
        {
         "name": "label",
         "rawType": "int64",
         "type": "integer"
        }
       ],
       "ref": "d93ce2f1-8086-44b9-85e2-ad6ce8290833",
       "rows": [
        [
         "0",
         "law enforcement on high alert following threats against cops and whites on 9-11by #blacklivesmatter and #fyf911 terrorists [video]",
         "no comment is expected from barack obama members of the #fyf911 or #fukyoflag and #blacklivesmatter movements called for the lynching and hanging of white people and cops. they encouraged others on a radio show tuesday night to turn the tide and kill white people and cops to send a message about the killing of black people in america.one of the f***yoflag organizers is called sunshine. she has a radio blog show hosted from texas called, sunshine s f***ing opinion radio show. a snapshot of her #fyf911 @lolatwhitefear twitter page at 9:53 p.m. shows that she was urging supporters to call now!! #fyf911 tonight we continue to dismantle the illusion of white below is a snapshot twitter radio call invite #fyf911the radio show aired at 10:00 p.m. eastern standard time.during the show, callers clearly call for lynching and killing of white people.a 2:39 minute clip from the radio show can be heard here. it was provided to breitbart texas by someone who would like to be referred to as hannibal. he has already received death threats as a result of interrupting #fyf911 conference calls.an unidentified black man said when those mother f**kers are by themselves, that s when when we should start f***ing them up. like they do us, when a bunch of them ni**ers takin one of us out, that s how we should roll up. he said, cause we already roll up in gangs anyway. there should be six or seven black mother f**ckers, see that white person, and then lynch their ass. let s turn the tables. they conspired that if cops started losing people, then there will be a state of emergency. he speculated that one of two things would happen, a big-ass [r s?????] war, or ni**ers, they are going to start backin up. we are already getting killed out here so what the f**k we got to lose? sunshine could be heard saying, yep, that s true. that s so f**king true. he said, we need to turn the tables on them. our kids are getting shot out here. somebody needs to become a sacrifice on their side.he said, everybody ain t down for that s**t, or whatever, but like i say, everybody has a different position of war. he continued, because they don t give a f**k anyway. he said again, we might as well utilized them for that s**t and turn the tables on these n**ers. he said, that way we can start lookin like we ain t havin that many casualties, and there can be more causalities on their side instead of ours. they are out their killing black people, black lives don t matter, that s what those mother f**kers so we got to make it matter to them. find a mother f**ker that is alone. snap his ass, and then f***in hang him from a damn tree. take a picture of it and then send it to the mother f**kers. we just need one example, and then people will start watchin . this will turn the tables on s**t, he said. he said this will start a trickle-down effect. he said that when one white person is hung and then they are just flat-hanging, that will start the trickle-down effect. he continued, black people are good at starting trends. he said that was how to get the upper-hand. another black man spoke up saying they needed to kill cops that are killing us. the first black male said, that will be the best method right there. breitbart texas previously reported how sunshine was upset when racist white people infiltrated and disrupted one of her conference calls. she subsequently released the phone number of one of the infiltrators. the veteran immediately started receiving threatening calls.one of the #f***yoflag movement supporters allegedly told a veteran who infiltrated their publicly posted conference call, we are going to rape and gut your pregnant wife, and your f***ing piece of sh*t unborn creature will be hung from a tree. breitbart texas previously encountered sunshine at a sandra bland protest at the waller county jail in texas, where she said all white people should be killed. she told journalists and photographers, you see this nappy-ass hair on my head? that means i am one of those more militant negroes. she said she was at the protest because these redneck mother-f**kers murdered sandra bland because she had nappy hair like me. #fyf911 black radicals say they will be holding the imperial powers that are actually responsible for the terrorist attacks on september 11th accountable on that day, as reported by breitbart texas. there are several websites and twitter handles for the movement. palmetto star describes himself as one of the head organizers. he said in a youtube video that supporters will be burning their symbols of the illusion of their superiority, their false white supremacy, like the american flag, the british flag, police uniforms, and ku klux klan hoods.sierra mcgrone or nocturnus libertus posted, you too can help a young afrikan clean their a** with the rag of oppression. she posted two photos, one that appears to be herself, and a photo of a black man, wiping their naked butts with the american flag.for entire story: breitbart news",
         "1"
        ],
        [
         "1",
         "unbelievable! obama’s attorney general says most charlotte rioters were “peaceful” protesters…in her home state of north carolina [video]",
         "now, most of the demonstrators gathered last night were exercising their constitutional and protected right to peaceful protest in order to raise issues and create change. loretta lynch aka eric holder in a skirt",
         "1"
        ],
        [
         "2",
         "bobby jindal, raised hindu, uses story of christian conversion to woo evangelicals for potential 2016 bid",
         "a dozen politically active pastors came here for a private dinner friday night to hear a conversion story unique in the context of presidential politics: how louisiana gov. bobby jindal traveled from hinduism to protestant christianity and, ultimately, became what he calls an “evangelical catholic.” over two hours, jindal, 42, recalled talking with a girl in high school who wanted to “save my soul,” reading the bible in a closet so his parents would not see him and feeling a stir while watching a movie during his senior year that depicted jesus on the cross. “i was struck, and struck hard,” jindal told the pastors. “this was the son of god, and he had died for our sins.” jindal’s session with the christian clergy, who lead congregations in the early presidential battleground states of iowa and south carolina, was part of a behind-the-scenes effort by the louisiana governor to find a political base that could help propel him into the top tier of republican candidates seeking to run for the white house in 2016. known in gop circles mostly for his mastery of policy issues such as health care, jindal, a rhodes scholar and graduate of the ivy league’s brown university, does not have an obvious pool of activist supporters to help drive excitement outside his home state. so he is harnessing his religious experience in a way that has begun to appeal to parts of the gop’s influential core of religious conservatives, many of whom have yet to find a favorite among the republicans eyeing the presidential race. other potential 2016 gop candidates are wooing the evangelical base, including sens. rand paul (ky.) and ted cruz (tex.) and indiana gov. mike pence. but over the weekend in lynchburg — a mecca of sorts for evangelicals as the home of liberty university, founded in the 1970s by the rev. jerry falwell — jindal appeared to make progress. in addition to his dinner with the pastors, he delivered a well-received “call to action” address to 40,000 christian conservatives gathered for liberty’s commencement ceremony, talking again about his faith while assailing what he said was president obama’s record of attacking religious liberty. the pastors who came to meet jindal said his intimate descriptions of his experiences stood out. “he has the convictions, and he has what it takes to communicate them,” said brad sherman of solid rock christian church in coralville, iowa. sherman helped former arkansas governor mike huckabee in his winning 2008 campaign for delegates in iowa. another huckabee admirer, the rev. c. mitchell brooks of second baptist church in belton, s.c., said jindal’s commitment to christian values and his compelling story put him “on a par” with huckabee, who was a baptist preacher before entering politics. the visiting pastors flew to lynchburg over the weekend at the invitation of the american renewal project, a well-funded nonprofit group that encourages evangelical christians to engage in the civic arena with voter guides, get-out-the-vote drives and programs to train pastors in grass-roots activism. the group’s founder, david lane, has built a pastor network in politically important states such as iowa, missouri, ohio and south carolina and has led trips to israel with paul and others seeking to make inroads with evangelical activists. the group that lane invited to lynchburg included donald wild­mon, a retired minister and founder of the american family association, a prominent evangelical activist group that has influence through its network of more than 140 christian radio stations. most of the pastors that lane’s organization brought to lynchburg had not met jindal. but they said he captured their interest recently when he stepped forward to defend phil robertson, patriarch of the “duck dynasty” television-show family, amid a controversy over disparaging remarks he made about gays in an interview with gq magazine. throughout his lynchburg visit, jindal presented himself as a willing culture warrior. during his commencement address saturday, he took up the cause of twin brothers whose hgtv reality series about renovating and reselling houses, “flip it forward,” was canceled last week after a web site revealed that they had protested against same-sex marriage at the 2012 democratic national convention in charlotte. the siblings, jason and david benham, both liberty graduates, attended the graduation and a private lunch with jindal, who called the action against them “another demonstration of intolerance from the entertainment industry.” “if these guys had protested at the republican party convention, instead of canceling their show, hgtv would probably have given them a raise,” jindal said as the liberty crowd applauded. he cited the hobby lobby craft store chain, which faced a legal challenge after refusing to provide employees with insurance coverage for contraceptives as required under the affordable care act. members of the family that owns hobby lobby, who have become heroes to many religious conservatives, have said that they are morally opposed to the use of certain types of birth control and that they considered the requirement a violation of their first amendment right to religious freedom. the family was “committed to honor the lord by being generous employers, paying well above minimum wage and increasing salaries four years in a row even in the midst of the enduring recession,” jindal told the liberty graduates. “none of this matters to the obama administration.” but for the pastors who came to see jindal in action, the governor’s own story was the highlight of the weekend. and in many ways, he was unlike any other aspiring president these activists had met. piyush jindal was born in 1971, four months after his parents arrived in baton rouge, la., from their native india. he changed his name to bobby as a young boy, adopting the name of a character on a favorite television show, “the brady bunch.” his decision to become a christian, he told the pastors, did not come in one moment of lightning epiphany. instead, he said, it happened in phases, growing from small seeds planted over time. jindal recalled that his closest friend from grade school gave him a bible with his name emblazoned in gold on the cover as a christmas present. it struck him initially as an unimpressive gift, jindal told the pastors. “who in the world would spend good money for a bible when everyone knows you can get one free in any hotel?” he recalled thinking at the time. “and the gold lettering meant i couldn’t give it away or return it.” his religious education reached a higher plane during his junior year in high school, he told his dinner audience. he wanted to ask a pretty girl on a date during a hallway conversation, and she started talking about her faith in god and her opposition to abortion. the girl invited him to visit her church. jindal said he was skeptical and set out to “investigate all these fanciful claims” made by the girl and other friends. he started reading the bible in his closet at home. “i was unsure how my parents would react,” he said. after the stirring moment when he saw christ depicted on the cross during the religious movie, the bible and his very existence suddenly seemed clearer to him, jindal told the pastors. jindal did not dwell on his subsequent conversion to catholicism just a few years later in college, where he said he immersed himself in the traditions of the church. he touched on it briefly during the commencement address, noting in passing that “i am best described as an evangelical catholic.” mostly, he sought to showcase the ways in which he shares values with other christian conservatives. “i read the words of jesus christ, and i realized that they were true,” jindal told the graduates saturday, offering a less detailed accounting of his conversion than he had done the night before with the pastors. “i used to think that i had found god, but i believe it is more accurate to say that he found me.”",
         "0"
        ],
        [
         "3",
         "satan 2: russia unvelis an image of its terrifying new ‘supernuke’ – western world takes notice",
         "the rs-28 sarmat missile, dubbed satan 2, will replace the ss-18 flies at 4.3 miles (7km) per sec and with a range of 6,213 miles (10,000km) the weapons are perceived as part of an increasingly aggressive russia it could deliver a warhead of 40 megatons – 2,000 times as powerful as the atom bombs dropped on hiroshima and nagasaki in 1945 by libby plummer and gareth davie s russia has unveiled chilling pictures of its largest ever nuclear missile, capable of destroying an area the size of france. the rs-28 sarmat missile, dubbed satan 2 by nato, has a top speed of 4.3 miles (7km) per second and has been designed to outfox anti-missile shield systems. the new sarmat missile could deliver warheads of 40 megatons – 2,000 times as powerful as the atom bombs dropped on hiroshima and nagasaki in 1945. scroll down for video russian president vladimir putin is reportedly planning to replace the country’s older ss-18 satan weapons with the new missiles amid a string of recent disagreements with the west. the kremlin has stepped up the rhetoric against the west and carried a series of manoeuvres that has infuriated politicians in the us and uk. the pictures were revealed online by chief designers from the makeyev rocket design bureau. a message posted alongside the picture said: ‘in accordance with the decree of the russian government ‘on the state defense order for 2010 and the planning period 2012-2013’, the makeyev rocket design bureau was instructed to start design and development work on the sarmat. ‘ the rs-28 sarmat missile is said to contain 16 nuclear warheads and is capable of destroying an area the size of france or texas, according to russian news network zvezda, which is owned by russia’s ministry of defence. the weapon is also able to evade radar. it is expected to have a range of 6,213 miles (10,000 km), which would allow moscow to attack london and for entire article click link",
         "1"
        ],
        [
         "4",
         "about time! christian group sues amazon and splc for designation as hate group",
         "all we can say on this one is it s about time someone sued the southern poverty law center!on tuesday, d. james kennedy ministries (djkm) filed a lawsuit against the southern poverty law center (splc), the charity navigation organization guidestar, and amazon, for defamation, religious discrimination, and trafficking in falsehood. the splc listed djkm as a hate group, while guidestar also categorized it in those terms, and amazon kept the ministry off of its charity donation program, amazon smile. we embarked today on a journey to right a terrible wrong, dr. frank wright, president and ceo at djkm, said in a statement tuesday. those who knowingly label christian ministries as hate groups, solely for subscribing to the historic christian faith, are either woefully uninformed or willfully deceitful. in the case of the southern poverty law center, our lawsuit alleges the latter. the splc has labeled djkm an anti-lgbt hate group for its opposition to same-sex marriage and transgenderism. these false and illegal characterizations have a chilling effect on the free exercise of religion and on religious free speech for all people of faith, wright declared. after having given the splc an opportunity to retract, we have undertaken this legal action, seeking a trial by a jury of our peers, to preserve our own rights under the law and to defend the religious free speech rights of all americans, the djkm president concluded.the lawsuit laid out charges against the splc, guidestar, and amazon.read more: pjm",
         "1"
        ]
       ],
       "shape": {
        "columns": 3,
        "rows": 5
       }
      },
      "text/html": [
       "<div>\n",
       "<style scoped>\n",
       "    .dataframe tbody tr th:only-of-type {\n",
       "        vertical-align: middle;\n",
       "    }\n",
       "\n",
       "    .dataframe tbody tr th {\n",
       "        vertical-align: top;\n",
       "    }\n",
       "\n",
       "    .dataframe thead th {\n",
       "        text-align: right;\n",
       "    }\n",
       "</style>\n",
       "<table border=\"1\" class=\"dataframe\">\n",
       "  <thead>\n",
       "    <tr style=\"text-align: right;\">\n",
       "      <th></th>\n",
       "      <th>title</th>\n",
       "      <th>text</th>\n",
       "      <th>label</th>\n",
       "    </tr>\n",
       "  </thead>\n",
       "  <tbody>\n",
       "    <tr>\n",
       "      <th>0</th>\n",
       "      <td>law enforcement on high alert following threat...</td>\n",
       "      <td>no comment is expected from barack obama membe...</td>\n",
       "      <td>1</td>\n",
       "    </tr>\n",
       "    <tr>\n",
       "      <th>1</th>\n",
       "      <td>unbelievable! obama’s attorney general says mo...</td>\n",
       "      <td>now, most of the demonstrators gathered last n...</td>\n",
       "      <td>1</td>\n",
       "    </tr>\n",
       "    <tr>\n",
       "      <th>2</th>\n",
       "      <td>bobby jindal, raised hindu, uses story of chri...</td>\n",
       "      <td>a dozen politically active pastors came here f...</td>\n",
       "      <td>0</td>\n",
       "    </tr>\n",
       "    <tr>\n",
       "      <th>3</th>\n",
       "      <td>satan 2: russia unvelis an image of its terrif...</td>\n",
       "      <td>the rs-28 sarmat missile, dubbed satan 2, will...</td>\n",
       "      <td>1</td>\n",
       "    </tr>\n",
       "    <tr>\n",
       "      <th>4</th>\n",
       "      <td>about time! christian group sues amazon and sp...</td>\n",
       "      <td>all we can say on this one is it s about time ...</td>\n",
       "      <td>1</td>\n",
       "    </tr>\n",
       "  </tbody>\n",
       "</table>\n",
       "</div>"
      ],
      "text/plain": [
       "                                               title  \\\n",
       "0  law enforcement on high alert following threat...   \n",
       "1  unbelievable! obama’s attorney general says mo...   \n",
       "2  bobby jindal, raised hindu, uses story of chri...   \n",
       "3  satan 2: russia unvelis an image of its terrif...   \n",
       "4  about time! christian group sues amazon and sp...   \n",
       "\n",
       "                                                text  label  \n",
       "0  no comment is expected from barack obama membe...      1  \n",
       "1  now, most of the demonstrators gathered last n...      1  \n",
       "2  a dozen politically active pastors came here f...      0  \n",
       "3  the rs-28 sarmat missile, dubbed satan 2, will...      1  \n",
       "4  all we can say on this one is it s about time ...      1  "
      ]
     },
     "execution_count": 8,
     "metadata": {},
     "output_type": "execute_result"
    }
   ],
   "source": [
    "df.head()"
   ]
  },
  {
   "cell_type": "markdown",
   "id": "b53ee667",
   "metadata": {},
   "source": [
    "### Comparision of average word lengths"
   ]
  },
  {
   "cell_type": "code",
   "execution_count": 20,
   "id": "2f5623b0",
   "metadata": {},
   "outputs": [
    {
     "name": "stderr",
     "output_type": "stream",
     "text": [
      "Pandas Apply: 100%|██████████| 70793/70793 [00:00<00:00, 81262.62it/s]\n",
      "Pandas Apply: 100%|██████████| 70793/70793 [00:27<00:00, 2531.76it/s]\n"
     ]
    },
    {
     "data": {
      "image/png": "[encoded data removed]",
      "text/plain": [
       "<Figure size 1000x600 with 1 Axes>"
      ]
     },
     "metadata": {},
     "output_type": "display_data"
    }
   ],
   "source": [
    "df[\"title_avg_word_length\"] = df[\"title\"].swifter.apply(lambda x: sum(len(word) for word in x.split()) / max(len(x.split()), 1))\n",
    "df[\"text_avg_word_length\"] = df[\"text\"].swifter.apply(lambda x: sum(len(word) for word in x.split()) / max(len(x.split()), 1))\n",
    "\n",
    "# Melt the DataFrame for seaborn\n",
    "melted_df = pd.melt(df,\n",
    "                    id_vars=\"label\",\n",
    "                    value_vars=[\"title_avg_word_length\", \"text_avg_word_length\"],\n",
    "                    var_name=\"Section\",\n",
    "                    value_name=\"AvgWordLength\")\n",
    "\n",
    "# Rename sections for clarity\n",
    "melted_df[\"Section\"] = melted_df[\"Section\"].map({\n",
    "    \"title_avg_word_length\": \"Title\",\n",
    "    \"text_avg_word_length\": \"Text\"\n",
    "})\n",
    "\n",
    "# Plot\n",
    "plt.figure(figsize=(10, 6))\n",
    "sns.boxplot(x=\"Section\", y=\"AvgWordLength\", hue=\"label\", data=melted_df, palette=\"Set2\")\n",
    "plt.title(\"Average Word Length by Section (Title vs Text)\")\n",
    "plt.ylabel(\"Average Word Length\")\n",
    "plt.xlabel(\"\")\n",
    "plt.legend(title=\"Label\")\n",
    "\n",
    "# Save the plot\n",
    "output_dir = \"../visualizations\"\n",
    "os.makedirs(output_dir, exist_ok=True)\n",
    "plt.tight_layout()\n",
    "plt.savefig(os.path.join(output_dir, \"avg_word_length_boxplot_by_label.png\"), dpi=300, bbox_inches=\"tight\")\n",
    "plt.show()\n"
   ]
  },
  {
   "cell_type": "code",
   "execution_count": 22,
   "id": "fefbdf36",
   "metadata": {},
   "outputs": [],
   "source": [
    "df.drop(columns = ['avg_word_len_title', 'avg_word_len_text'], inplace = True)"
   ]
  },
  {
   "cell_type": "code",
   "execution_count": 23,
   "id": "a1831949",
   "metadata": {},
   "outputs": [
    {
     "data": {
      "application/vnd.microsoft.datawrangler.viewer.v0+json": {
       "columns": [
        {
         "name": "index",
         "rawType": "int64",
         "type": "integer"
        },
        {
         "name": "title",
         "rawType": "object",
         "type": "string"
        },
        {
         "name": "text",
         "rawType": "object",
         "type": "string"
        },
        {
         "name": "label",
         "rawType": "int64",
         "type": "integer"
        },
        {
         "name": "title_avg_word_length",
         "rawType": "float64",
         "type": "float"
        },
        {
         "name": "text_avg_word_length",
         "rawType": "float64",
         "type": "float"
        }
       ],
       "ref": "b5f1a72b-3dee-470e-84ab-5be5b42d8f1c",
       "rows": [
        [
         "0",
         "law enforcement on high alert following threats against cops and whites on 9-11by #blacklivesmatter and #fyf911 terrorists [video]",
         "no comment is expected from barack obama members of the #fyf911 or #fukyoflag and #blacklivesmatter movements called for the lynching and hanging of white people and cops. they encouraged others on a radio show tuesday night to turn the tide and kill white people and cops to send a message about the killing of black people in america.one of the f***yoflag organizers is called sunshine. she has a radio blog show hosted from texas called, sunshine s f***ing opinion radio show. a snapshot of her #fyf911 @lolatwhitefear twitter page at 9:53 p.m. shows that she was urging supporters to call now!! #fyf911 tonight we continue to dismantle the illusion of white below is a snapshot twitter radio call invite #fyf911the radio show aired at 10:00 p.m. eastern standard time.during the show, callers clearly call for lynching and killing of white people.a 2:39 minute clip from the radio show can be heard here. it was provided to breitbart texas by someone who would like to be referred to as hannibal. he has already received death threats as a result of interrupting #fyf911 conference calls.an unidentified black man said when those mother f**kers are by themselves, that s when when we should start f***ing them up. like they do us, when a bunch of them ni**ers takin one of us out, that s how we should roll up. he said, cause we already roll up in gangs anyway. there should be six or seven black mother f**ckers, see that white person, and then lynch their ass. let s turn the tables. they conspired that if cops started losing people, then there will be a state of emergency. he speculated that one of two things would happen, a big-ass [r s?????] war, or ni**ers, they are going to start backin up. we are already getting killed out here so what the f**k we got to lose? sunshine could be heard saying, yep, that s true. that s so f**king true. he said, we need to turn the tables on them. our kids are getting shot out here. somebody needs to become a sacrifice on their side.he said, everybody ain t down for that s**t, or whatever, but like i say, everybody has a different position of war. he continued, because they don t give a f**k anyway. he said again, we might as well utilized them for that s**t and turn the tables on these n**ers. he said, that way we can start lookin like we ain t havin that many casualties, and there can be more causalities on their side instead of ours. they are out their killing black people, black lives don t matter, that s what those mother f**kers so we got to make it matter to them. find a mother f**ker that is alone. snap his ass, and then f***in hang him from a damn tree. take a picture of it and then send it to the mother f**kers. we just need one example, and then people will start watchin . this will turn the tables on s**t, he said. he said this will start a trickle-down effect. he said that when one white person is hung and then they are just flat-hanging, that will start the trickle-down effect. he continued, black people are good at starting trends. he said that was how to get the upper-hand. another black man spoke up saying they needed to kill cops that are killing us. the first black male said, that will be the best method right there. breitbart texas previously reported how sunshine was upset when racist white people infiltrated and disrupted one of her conference calls. she subsequently released the phone number of one of the infiltrators. the veteran immediately started receiving threatening calls.one of the #f***yoflag movement supporters allegedly told a veteran who infiltrated their publicly posted conference call, we are going to rape and gut your pregnant wife, and your f***ing piece of sh*t unborn creature will be hung from a tree. breitbart texas previously encountered sunshine at a sandra bland protest at the waller county jail in texas, where she said all white people should be killed. she told journalists and photographers, you see this nappy-ass hair on my head? that means i am one of those more militant negroes. she said she was at the protest because these redneck mother-f**kers murdered sandra bland because she had nappy hair like me. #fyf911 black radicals say they will be holding the imperial powers that are actually responsible for the terrorist attacks on september 11th accountable on that day, as reported by breitbart texas. there are several websites and twitter handles for the movement. palmetto star describes himself as one of the head organizers. he said in a youtube video that supporters will be burning their symbols of the illusion of their superiority, their false white supremacy, like the american flag, the british flag, police uniforms, and ku klux klan hoods.sierra mcgrone or nocturnus libertus posted, you too can help a young afrikan clean their a** with the rag of oppression. she posted two photos, one that appears to be herself, and a photo of a black man, wiping their naked butts with the american flag.for entire story: breitbart news",
         "1",
         "6.277777777777778",
         "4.717566016073479"
        ],
        [
         "1",
         "unbelievable! obama’s attorney general says most charlotte rioters were “peaceful” protesters…in her home state of north carolina [video]",
         "now, most of the demonstrators gathered last night were exercising their constitutional and protected right to peaceful protest in order to raise issues and create change. loretta lynch aka eric holder in a skirt",
         "1",
         "6.666666666666667",
         "5.264705882352941"
        ],
        [
         "2",
         "bobby jindal, raised hindu, uses story of christian conversion to woo evangelicals for potential 2016 bid",
         "a dozen politically active pastors came here for a private dinner friday night to hear a conversion story unique in the context of presidential politics: how louisiana gov. bobby jindal traveled from hinduism to protestant christianity and, ultimately, became what he calls an “evangelical catholic.” over two hours, jindal, 42, recalled talking with a girl in high school who wanted to “save my soul,” reading the bible in a closet so his parents would not see him and feeling a stir while watching a movie during his senior year that depicted jesus on the cross. “i was struck, and struck hard,” jindal told the pastors. “this was the son of god, and he had died for our sins.” jindal’s session with the christian clergy, who lead congregations in the early presidential battleground states of iowa and south carolina, was part of a behind-the-scenes effort by the louisiana governor to find a political base that could help propel him into the top tier of republican candidates seeking to run for the white house in 2016. known in gop circles mostly for his mastery of policy issues such as health care, jindal, a rhodes scholar and graduate of the ivy league’s brown university, does not have an obvious pool of activist supporters to help drive excitement outside his home state. so he is harnessing his religious experience in a way that has begun to appeal to parts of the gop’s influential core of religious conservatives, many of whom have yet to find a favorite among the republicans eyeing the presidential race. other potential 2016 gop candidates are wooing the evangelical base, including sens. rand paul (ky.) and ted cruz (tex.) and indiana gov. mike pence. but over the weekend in lynchburg — a mecca of sorts for evangelicals as the home of liberty university, founded in the 1970s by the rev. jerry falwell — jindal appeared to make progress. in addition to his dinner with the pastors, he delivered a well-received “call to action” address to 40,000 christian conservatives gathered for liberty’s commencement ceremony, talking again about his faith while assailing what he said was president obama’s record of attacking religious liberty. the pastors who came to meet jindal said his intimate descriptions of his experiences stood out. “he has the convictions, and he has what it takes to communicate them,” said brad sherman of solid rock christian church in coralville, iowa. sherman helped former arkansas governor mike huckabee in his winning 2008 campaign for delegates in iowa. another huckabee admirer, the rev. c. mitchell brooks of second baptist church in belton, s.c., said jindal’s commitment to christian values and his compelling story put him “on a par” with huckabee, who was a baptist preacher before entering politics. the visiting pastors flew to lynchburg over the weekend at the invitation of the american renewal project, a well-funded nonprofit group that encourages evangelical christians to engage in the civic arena with voter guides, get-out-the-vote drives and programs to train pastors in grass-roots activism. the group’s founder, david lane, has built a pastor network in politically important states such as iowa, missouri, ohio and south carolina and has led trips to israel with paul and others seeking to make inroads with evangelical activists. the group that lane invited to lynchburg included donald wild­mon, a retired minister and founder of the american family association, a prominent evangelical activist group that has influence through its network of more than 140 christian radio stations. most of the pastors that lane’s organization brought to lynchburg had not met jindal. but they said he captured their interest recently when he stepped forward to defend phil robertson, patriarch of the “duck dynasty” television-show family, amid a controversy over disparaging remarks he made about gays in an interview with gq magazine. throughout his lynchburg visit, jindal presented himself as a willing culture warrior. during his commencement address saturday, he took up the cause of twin brothers whose hgtv reality series about renovating and reselling houses, “flip it forward,” was canceled last week after a web site revealed that they had protested against same-sex marriage at the 2012 democratic national convention in charlotte. the siblings, jason and david benham, both liberty graduates, attended the graduation and a private lunch with jindal, who called the action against them “another demonstration of intolerance from the entertainment industry.” “if these guys had protested at the republican party convention, instead of canceling their show, hgtv would probably have given them a raise,” jindal said as the liberty crowd applauded. he cited the hobby lobby craft store chain, which faced a legal challenge after refusing to provide employees with insurance coverage for contraceptives as required under the affordable care act. members of the family that owns hobby lobby, who have become heroes to many religious conservatives, have said that they are morally opposed to the use of certain types of birth control and that they considered the requirement a violation of their first amendment right to religious freedom. the family was “committed to honor the lord by being generous employers, paying well above minimum wage and increasing salaries four years in a row even in the midst of the enduring recession,” jindal told the liberty graduates. “none of this matters to the obama administration.” but for the pastors who came to see jindal in action, the governor’s own story was the highlight of the weekend. and in many ways, he was unlike any other aspiring president these activists had met. piyush jindal was born in 1971, four months after his parents arrived in baton rouge, la., from their native india. he changed his name to bobby as a young boy, adopting the name of a character on a favorite television show, “the brady bunch.” his decision to become a christian, he told the pastors, did not come in one moment of lightning epiphany. instead, he said, it happened in phases, growing from small seeds planted over time. jindal recalled that his closest friend from grade school gave him a bible with his name emblazoned in gold on the cover as a christmas present. it struck him initially as an unimpressive gift, jindal told the pastors. “who in the world would spend good money for a bible when everyone knows you can get one free in any hotel?” he recalled thinking at the time. “and the gold lettering meant i couldn’t give it away or return it.” his religious education reached a higher plane during his junior year in high school, he told his dinner audience. he wanted to ask a pretty girl on a date during a hallway conversation, and she started talking about her faith in god and her opposition to abortion. the girl invited him to visit her church. jindal said he was skeptical and set out to “investigate all these fanciful claims” made by the girl and other friends. he started reading the bible in his closet at home. “i was unsure how my parents would react,” he said. after the stirring moment when he saw christ depicted on the cross during the religious movie, the bible and his very existence suddenly seemed clearer to him, jindal told the pastors. jindal did not dwell on his subsequent conversion to catholicism just a few years later in college, where he said he immersed himself in the traditions of the church. he touched on it briefly during the commencement address, noting in passing that “i am best described as an evangelical catholic.” mostly, he sought to showcase the ways in which he shares values with other christian conservatives. “i read the words of jesus christ, and i realized that they were true,” jindal told the graduates saturday, offering a less detailed accounting of his conversion than he had done the night before with the pastors. “i used to think that i had found god, but i believe it is more accurate to say that he found me.”",
         "0",
         "5.625",
         "5.041635124905374"
        ],
        [
         "3",
         "satan 2: russia unvelis an image of its terrifying new ‘supernuke’ – western world takes notice",
         "the rs-28 sarmat missile, dubbed satan 2, will replace the ss-18 flies at 4.3 miles (7km) per sec and with a range of 6,213 miles (10,000km) the weapons are perceived as part of an increasingly aggressive russia it could deliver a warhead of 40 megatons – 2,000 times as powerful as the atom bombs dropped on hiroshima and nagasaki in 1945 by libby plummer and gareth davie s russia has unveiled chilling pictures of its largest ever nuclear missile, capable of destroying an area the size of france. the rs-28 sarmat missile, dubbed satan 2 by nato, has a top speed of 4.3 miles (7km) per second and has been designed to outfox anti-missile shield systems. the new sarmat missile could deliver warheads of 40 megatons – 2,000 times as powerful as the atom bombs dropped on hiroshima and nagasaki in 1945. scroll down for video russian president vladimir putin is reportedly planning to replace the country’s older ss-18 satan weapons with the new missiles amid a string of recent disagreements with the west. the kremlin has stepped up the rhetoric against the west and carried a series of manoeuvres that has infuriated politicians in the us and uk. the pictures were revealed online by chief designers from the makeyev rocket design bureau. a message posted alongside the picture said: ‘in accordance with the decree of the russian government ‘on the state defense order for 2010 and the planning period 2012-2013’, the makeyev rocket design bureau was instructed to start design and development work on the sarmat. ‘ the rs-28 sarmat missile is said to contain 16 nuclear warheads and is capable of destroying an area the size of france or texas, according to russian news network zvezda, which is owned by russia’s ministry of defence. the weapon is also able to evade radar. it is expected to have a range of 6,213 miles (10,000 km), which would allow moscow to attack london and for entire article click link",
         "1",
         "5.0",
         "4.82370820668693"
        ],
        [
         "4",
         "about time! christian group sues amazon and splc for designation as hate group",
         "all we can say on this one is it s about time someone sued the southern poverty law center!on tuesday, d. james kennedy ministries (djkm) filed a lawsuit against the southern poverty law center (splc), the charity navigation organization guidestar, and amazon, for defamation, religious discrimination, and trafficking in falsehood. the splc listed djkm as a hate group, while guidestar also categorized it in those terms, and amazon kept the ministry off of its charity donation program, amazon smile. we embarked today on a journey to right a terrible wrong, dr. frank wright, president and ceo at djkm, said in a statement tuesday. those who knowingly label christian ministries as hate groups, solely for subscribing to the historic christian faith, are either woefully uninformed or willfully deceitful. in the case of the southern poverty law center, our lawsuit alleges the latter. the splc has labeled djkm an anti-lgbt hate group for its opposition to same-sex marriage and transgenderism. these false and illegal characterizations have a chilling effect on the free exercise of religion and on religious free speech for all people of faith, wright declared. after having given the splc an opportunity to retract, we have undertaken this legal action, seeking a trial by a jury of our peers, to preserve our own rights under the law and to defend the religious free speech rights of all americans, the djkm president concluded.the lawsuit laid out charges against the splc, guidestar, and amazon.read more: pjm",
         "1",
         "5.076923076923077",
         "5.229508196721311"
        ]
       ],
       "shape": {
        "columns": 5,
        "rows": 5
       }
      },
      "text/html": [
       "<div>\n",
       "<style scoped>\n",
       "    .dataframe tbody tr th:only-of-type {\n",
       "        vertical-align: middle;\n",
       "    }\n",
       "\n",
       "    .dataframe tbody tr th {\n",
       "        vertical-align: top;\n",
       "    }\n",
       "\n",
       "    .dataframe thead th {\n",
       "        text-align: right;\n",
       "    }\n",
       "</style>\n",
       "<table border=\"1\" class=\"dataframe\">\n",
       "  <thead>\n",
       "    <tr style=\"text-align: right;\">\n",
       "      <th></th>\n",
       "      <th>title</th>\n",
       "      <th>text</th>\n",
       "      <th>label</th>\n",
       "      <th>title_avg_word_length</th>\n",
       "      <th>text_avg_word_length</th>\n",
       "    </tr>\n",
       "  </thead>\n",
       "  <tbody>\n",
       "    <tr>\n",
       "      <th>0</th>\n",
       "      <td>law enforcement on high alert following threat...</td>\n",
       "      <td>no comment is expected from barack obama membe...</td>\n",
       "      <td>1</td>\n",
       "      <td>6.277778</td>\n",
       "      <td>4.717566</td>\n",
       "    </tr>\n",
       "    <tr>\n",
       "      <th>1</th>\n",
       "      <td>unbelievable! obama’s attorney general says mo...</td>\n",
       "      <td>now, most of the demonstrators gathered last n...</td>\n",
       "      <td>1</td>\n",
       "      <td>6.666667</td>\n",
       "      <td>5.264706</td>\n",
       "    </tr>\n",
       "    <tr>\n",
       "      <th>2</th>\n",
       "      <td>bobby jindal, raised hindu, uses story of chri...</td>\n",
       "      <td>a dozen politically active pastors came here f...</td>\n",
       "      <td>0</td>\n",
       "      <td>5.625000</td>\n",
       "      <td>5.041635</td>\n",
       "    </tr>\n",
       "    <tr>\n",
       "      <th>3</th>\n",
       "      <td>satan 2: russia unvelis an image of its terrif...</td>\n",
       "      <td>the rs-28 sarmat missile, dubbed satan 2, will...</td>\n",
       "      <td>1</td>\n",
       "      <td>5.000000</td>\n",
       "      <td>4.823708</td>\n",
       "    </tr>\n",
       "    <tr>\n",
       "      <th>4</th>\n",
       "      <td>about time! christian group sues amazon and sp...</td>\n",
       "      <td>all we can say on this one is it s about time ...</td>\n",
       "      <td>1</td>\n",
       "      <td>5.076923</td>\n",
       "      <td>5.229508</td>\n",
       "    </tr>\n",
       "  </tbody>\n",
       "</table>\n",
       "</div>"
      ],
      "text/plain": [
       "                                               title  \\\n",
       "0  law enforcement on high alert following threat...   \n",
       "1  unbelievable! obama’s attorney general says mo...   \n",
       "2  bobby jindal, raised hindu, uses story of chri...   \n",
       "3  satan 2: russia unvelis an image of its terrif...   \n",
       "4  about time! christian group sues amazon and sp...   \n",
       "\n",
       "                                                text  label  \\\n",
       "0  no comment is expected from barack obama membe...      1   \n",
       "1  now, most of the demonstrators gathered last n...      1   \n",
       "2  a dozen politically active pastors came here f...      0   \n",
       "3  the rs-28 sarmat missile, dubbed satan 2, will...      1   \n",
       "4  all we can say on this one is it s about time ...      1   \n",
       "\n",
       "   title_avg_word_length  text_avg_word_length  \n",
       "0               6.277778              4.717566  \n",
       "1               6.666667              5.264706  \n",
       "2               5.625000              5.041635  \n",
       "3               5.000000              4.823708  \n",
       "4               5.076923              5.229508  "
      ]
     },
     "execution_count": 23,
     "metadata": {},
     "output_type": "execute_result"
    }
   ],
   "source": [
    "df.head()"
   ]
  },
  {
   "cell_type": "code",
   "execution_count": 24,
   "id": "6588642b",
   "metadata": {},
   "outputs": [
    {
     "data": {
      "image/png": "[encoded data removed]",
      "text/plain": [
       "<Figure size 1000x600 with 1 Axes>"
      ]
     },
     "metadata": {},
     "output_type": "display_data"
    }
   ],
   "source": [
    "plt.figure(figsize=(10, 6))\n",
    "sns.barplot(x=\"Section\", y=\"AvgWordLength\", hue=\"label\", data=melted_df, palette=\"Set2\")\n",
    "plt.title(\"Average Word Length by Section (Title vs Text)\")\n",
    "plt.ylabel(\"Average Word Length\")\n",
    "plt.xlabel(\"\")\n",
    "plt.legend(title=\"Label\")\n",
    "\n",
    "# Save the plot\n",
    "output_dir = \"../visualizations\"\n",
    "os.makedirs(output_dir, exist_ok=True)\n",
    "plt.tight_layout()\n",
    "plt.savefig(os.path.join(output_dir, \"avg_word_length_barplot_by_label.png\"), dpi=300, bbox_inches=\"tight\")\n",
    "plt.show()\n"
   ]
  },
  {
   "cell_type": "code",
   "execution_count": 27,
   "id": "a7e59bef",
   "metadata": {},
   "outputs": [],
   "source": [
    "import nltk"
   ]
  },
  {
   "cell_type": "code",
   "execution_count": 9,
   "id": "9fe7e338",
   "metadata": {},
   "outputs": [],
   "source": [
    "from featurederivator import process_and_save_in_batches"
   ]
  },
  {
   "cell_type": "code",
   "execution_count": 16,
   "id": "ef3ea4f0",
   "metadata": {},
   "outputs": [
    {
     "name": "stdout",
     "output_type": "stream",
     "text": [
      "Processing batch 1/15 — Rows 0 to 5000\n"
     ]
    },
    {
     "name": "stderr",
     "output_type": "stream",
     "text": [
      "Pandas Apply: 100%|██████████| 5000/5000 [00:00<00:00, 177718.72it/s]\n",
      "Pandas Apply: 100%|██████████| 5000/5000 [00:00<00:00, 319181.78it/s]\n",
      "Pandas Apply: 100%|██████████| 5000/5000 [00:00<00:00, 182494.34it/s]\n",
      "Pandas Apply: 100%|██████████| 5000/5000 [00:36<00:00, 137.91it/s]\n",
      "Pandas Apply: 100%|██████████| 5000/5000 [00:00<00:00, 7217.33it/s]\n",
      "Pandas Apply: 100%|██████████| 5000/5000 [00:00<00:00, 5954.60it/s]\n",
      "Pandas Apply: 100%|██████████| 5000/5000 [00:57<00:00, 87.30it/s] \n",
      "Pandas Apply: 100%|██████████| 5000/5000 [00:00<00:00, 280001.07it/s]\n",
      "Pandas Apply: 100%|██████████| 5000/5000 [00:00<00:00, 256900.03it/s]\n"
     ]
    },
    {
     "name": "stdout",
     "output_type": "stream",
     "text": [
      "Saved: processed_title_chunks\\title_features_batch_1.csv\n",
      "Processing batch 2/15 — Rows 5000 to 10000\n"
     ]
    },
    {
     "name": "stderr",
     "output_type": "stream",
     "text": [
      "Pandas Apply: 100%|██████████| 5000/5000 [00:00<00:00, 68404.50it/s]\n",
      "Pandas Apply: 100%|██████████| 5000/5000 [00:00<00:00, 186684.00it/s]\n",
      "Pandas Apply: 100%|██████████| 5000/5000 [00:00<00:00, 166701.27it/s]\n",
      "Pandas Apply: 100%|██████████| 5000/5000 [00:33<00:00, 150.24it/s]\n",
      "Pandas Apply: 100%|██████████| 5000/5000 [00:00<00:00, 8491.17it/s]\n",
      "Pandas Apply: 100%|██████████| 5000/5000 [00:00<00:00, 5631.19it/s]\n",
      "Pandas Apply: 100%|██████████| 5000/5000 [00:55<00:00, 90.02it/s] \n",
      "Pandas Apply: 100%|██████████| 5000/5000 [00:00<00:00, 281670.83it/s]\n",
      "Pandas Apply: 100%|██████████| 5000/5000 [00:00<00:00, 206925.84it/s]\n"
     ]
    },
    {
     "name": "stdout",
     "output_type": "stream",
     "text": [
      "Saved: processed_title_chunks\\title_features_batch_2.csv\n",
      "Processing batch 3/15 — Rows 10000 to 15000\n"
     ]
    },
    {
     "name": "stderr",
     "output_type": "stream",
     "text": [
      "Pandas Apply: 100%|██████████| 5000/5000 [00:00<00:00, 82431.33it/s]\n",
      "Pandas Apply: 100%|██████████| 5000/5000 [00:00<00:00, 357071.44it/s]\n",
      "Pandas Apply: 100%|██████████| 5000/5000 [00:00<00:00, 172866.89it/s]\n",
      "Pandas Apply: 100%|██████████| 5000/5000 [00:32<00:00, 155.62it/s]\n",
      "Pandas Apply: 100%|██████████| 5000/5000 [00:00<00:00, 8337.79it/s]\n",
      "Pandas Apply: 100%|██████████| 5000/5000 [00:00<00:00, 6192.65it/s]\n",
      "Pandas Apply: 100%|██████████| 5000/5000 [00:56<00:00, 89.20it/s] \n",
      "Pandas Apply: 100%|██████████| 5000/5000 [00:00<00:00, 279486.11it/s]\n",
      "Pandas Apply: 100%|██████████| 5000/5000 [00:00<00:00, 187787.28it/s]\n"
     ]
    },
    {
     "name": "stdout",
     "output_type": "stream",
     "text": [
      "Saved: processed_title_chunks\\title_features_batch_3.csv\n",
      "Processing batch 4/15 — Rows 15000 to 20000\n"
     ]
    },
    {
     "name": "stderr",
     "output_type": "stream",
     "text": [
      "Pandas Apply: 100%|██████████| 5000/5000 [00:00<00:00, 85692.13it/s]\n",
      "Pandas Apply: 100%|██████████| 5000/5000 [00:00<00:00, 323834.47it/s]\n",
      "Pandas Apply: 100%|██████████| 5000/5000 [00:00<00:00, 171855.45it/s]\n",
      "Pandas Apply: 100%|██████████| 5000/5000 [00:32<00:00, 155.89it/s]\n",
      "Pandas Apply: 100%|██████████| 5000/5000 [00:00<00:00, 8979.64it/s]\n",
      "Pandas Apply: 100%|██████████| 5000/5000 [00:00<00:00, 6017.29it/s]\n",
      "Pandas Apply: 100%|██████████| 5000/5000 [00:57<00:00, 87.23it/s] \n",
      "Pandas Apply: 100%|██████████| 5000/5000 [00:00<00:00, 328496.11it/s]\n",
      "Pandas Apply: 100%|██████████| 5000/5000 [00:00<00:00, 314944.43it/s]\n"
     ]
    },
    {
     "name": "stdout",
     "output_type": "stream",
     "text": [
      "Saved: processed_title_chunks\\title_features_batch_4.csv\n",
      "Processing batch 5/15 — Rows 20000 to 25000\n"
     ]
    },
    {
     "name": "stderr",
     "output_type": "stream",
     "text": [
      "Pandas Apply: 100%|██████████| 5000/5000 [00:00<00:00, 84033.98it/s]\n",
      "Pandas Apply: 100%|██████████| 5000/5000 [00:00<00:00, 338961.05it/s]\n",
      "Pandas Apply: 100%|██████████| 5000/5000 [00:00<00:00, 171425.58it/s]\n",
      "Pandas Apply: 100%|██████████| 5000/5000 [00:31<00:00, 156.40it/s]\n",
      "Pandas Apply: 100%|██████████| 5000/5000 [00:00<00:00, 8415.54it/s]\n",
      "Pandas Apply: 100%|██████████| 5000/5000 [00:00<00:00, 5690.31it/s]\n",
      "Pandas Apply: 100%|██████████| 5000/5000 [00:56<00:00, 88.27it/s] \n",
      "Pandas Apply: 100%|██████████| 5000/5000 [00:00<00:00, 304376.20it/s]\n",
      "Pandas Apply: 100%|██████████| 5000/5000 [00:00<00:00, 323066.21it/s]\n"
     ]
    },
    {
     "name": "stdout",
     "output_type": "stream",
     "text": [
      "Saved: processed_title_chunks\\title_features_batch_5.csv\n",
      "Processing batch 6/15 — Rows 25000 to 30000\n"
     ]
    },
    {
     "name": "stderr",
     "output_type": "stream",
     "text": [
      "Pandas Apply: 100%|██████████| 5000/5000 [00:00<00:00, 79248.76it/s]\n",
      "Pandas Apply: 100%|██████████| 5000/5000 [00:00<00:00, 302492.75it/s]\n",
      "Pandas Apply: 100%|██████████| 5000/5000 [00:00<00:00, 160606.54it/s]\n",
      "Pandas Apply: 100%|██████████| 5000/5000 [00:31<00:00, 158.49it/s]\n",
      "Pandas Apply: 100%|██████████| 5000/5000 [00:00<00:00, 9903.82it/s] \n",
      "Pandas Apply: 100%|██████████| 5000/5000 [00:00<00:00, 6028.58it/s]\n",
      "Pandas Apply: 100%|██████████| 5000/5000 [00:58<00:00, 85.30it/s] \n",
      "Pandas Apply: 100%|██████████| 5000/5000 [00:00<00:00, 339850.91it/s]\n",
      "Pandas Apply: 100%|██████████| 5000/5000 [00:00<00:00, 298331.63it/s]\n"
     ]
    },
    {
     "name": "stdout",
     "output_type": "stream",
     "text": [
      "Saved: processed_title_chunks\\title_features_batch_6.csv\n",
      "Processing batch 7/15 — Rows 30000 to 35000\n"
     ]
    },
    {
     "name": "stderr",
     "output_type": "stream",
     "text": [
      "Pandas Apply: 100%|██████████| 5000/5000 [00:00<00:00, 86707.18it/s]\n",
      "Pandas Apply: 100%|██████████| 5000/5000 [00:00<00:00, 334692.86it/s]\n",
      "Pandas Apply: 100%|██████████| 5000/5000 [00:00<00:00, 147698.20it/s]\n",
      "Pandas Apply: 100%|██████████| 5000/5000 [00:31<00:00, 156.72it/s]\n",
      "Pandas Apply: 100%|██████████| 5000/5000 [00:00<00:00, 14460.49it/s]\n",
      "Pandas Apply: 100%|██████████| 5000/5000 [00:00<00:00, 10456.65it/s]\n",
      "Pandas Apply: 100%|██████████| 5000/5000 [00:41<00:00, 119.38it/s]\n",
      "Pandas Apply: 100%|██████████| 5000/5000 [00:00<00:00, 494704.66it/s]\n",
      "Pandas Apply: 100%|██████████| 5000/5000 [00:00<00:00, 520243.11it/s]\n"
     ]
    },
    {
     "name": "stdout",
     "output_type": "stream",
     "text": [
      "Saved: processed_title_chunks\\title_features_batch_7.csv\n",
      "Processing batch 8/15 — Rows 35000 to 40000\n"
     ]
    },
    {
     "name": "stderr",
     "output_type": "stream",
     "text": [
      "Pandas Apply: 100%|██████████| 5000/5000 [00:00<00:00, 58887.59it/s]\n",
      "Pandas Apply: 100%|██████████| 5000/5000 [00:00<00:00, 561291.12it/s]\n",
      "Pandas Apply: 100%|██████████| 5000/5000 [00:00<00:00, 284378.87it/s]\n",
      "Pandas Apply: 100%|██████████| 5000/5000 [00:19<00:00, 251.09it/s]\n",
      "Pandas Apply: 100%|██████████| 5000/5000 [00:00<00:00, 16166.24it/s]\n",
      "Pandas Apply: 100%|██████████| 5000/5000 [00:00<00:00, 11228.20it/s]\n",
      "Pandas Apply: 100%|██████████| 5000/5000 [00:40<00:00, 122.43it/s]\n",
      "Pandas Apply: 100%|██████████| 5000/5000 [00:00<00:00, 533545.01it/s]\n",
      "Pandas Apply: 100%|██████████| 5000/5000 [00:00<00:00, 502384.06it/s]\n"
     ]
    },
    {
     "name": "stdout",
     "output_type": "stream",
     "text": [
      "Saved: processed_title_chunks\\title_features_batch_8.csv\n",
      "Processing batch 9/15 — Rows 40000 to 45000\n"
     ]
    },
    {
     "name": "stderr",
     "output_type": "stream",
     "text": [
      "Pandas Apply: 100%|██████████| 5000/5000 [00:00<00:00, 121165.23it/s]\n",
      "Pandas Apply: 100%|██████████| 5000/5000 [00:00<00:00, 694421.19it/s]\n",
      "Pandas Apply: 100%|██████████| 5000/5000 [00:00<00:00, 283398.92it/s]\n",
      "Pandas Apply: 100%|██████████| 5000/5000 [00:17<00:00, 284.15it/s]\n",
      "Pandas Apply: 100%|██████████| 5000/5000 [00:00<00:00, 17688.14it/s]\n",
      "Pandas Apply: 100%|██████████| 5000/5000 [00:00<00:00, 12081.90it/s]\n",
      "Pandas Apply: 100%|██████████| 5000/5000 [00:34<00:00, 144.10it/s]\n",
      "Pandas Apply: 100%|██████████| 5000/5000 [00:00<00:00, 436270.44it/s]\n",
      "Pandas Apply: 100%|██████████| 5000/5000 [00:00<00:00, 323609.60it/s]\n"
     ]
    },
    {
     "name": "stdout",
     "output_type": "stream",
     "text": [
      "Saved: processed_title_chunks\\title_features_batch_9.csv\n",
      "Processing batch 10/15 — Rows 45000 to 50000\n"
     ]
    },
    {
     "name": "stderr",
     "output_type": "stream",
     "text": [
      "Pandas Apply: 100%|██████████| 5000/5000 [00:00<00:00, 134576.89it/s]\n",
      "Pandas Apply: 100%|██████████| 5000/5000 [00:00<00:00, 627120.00it/s]\n",
      "Pandas Apply: 100%|██████████| 5000/5000 [00:00<00:00, 315783.83it/s]\n",
      "Pandas Apply: 100%|██████████| 5000/5000 [00:17<00:00, 278.90it/s]\n",
      "Pandas Apply: 100%|██████████| 5000/5000 [00:00<00:00, 17564.72it/s]\n",
      "Pandas Apply: 100%|██████████| 5000/5000 [00:00<00:00, 11951.76it/s]\n",
      "Pandas Apply: 100%|██████████| 5000/5000 [00:34<00:00, 142.88it/s]\n",
      "Pandas Apply: 100%|██████████| 5000/5000 [00:00<00:00, 433188.47it/s]\n",
      "Pandas Apply: 100%|██████████| 5000/5000 [00:00<00:00, 482503.22it/s]\n"
     ]
    },
    {
     "name": "stdout",
     "output_type": "stream",
     "text": [
      "Saved: processed_title_chunks\\title_features_batch_10.csv\n",
      "Processing batch 11/15 — Rows 50000 to 55000\n"
     ]
    },
    {
     "name": "stderr",
     "output_type": "stream",
     "text": [
      "Pandas Apply: 100%|██████████| 5000/5000 [00:00<00:00, 135954.46it/s]\n",
      "Pandas Apply: 100%|██████████| 5000/5000 [00:00<00:00, 435437.07it/s]\n",
      "Pandas Apply: 100%|██████████| 5000/5000 [00:00<00:00, 294217.37it/s]\n",
      "Pandas Apply: 100%|██████████| 5000/5000 [00:17<00:00, 286.80it/s]\n",
      "Pandas Apply: 100%|██████████| 5000/5000 [00:00<00:00, 17947.37it/s]\n",
      "Pandas Apply: 100%|██████████| 5000/5000 [00:00<00:00, 11155.60it/s]\n",
      "Pandas Apply: 100%|██████████| 5000/5000 [00:34<00:00, 143.21it/s]\n",
      "Pandas Apply: 100%|██████████| 5000/5000 [00:00<00:00, 424713.84it/s]\n",
      "Pandas Apply: 100%|██████████| 5000/5000 [00:00<00:00, 485002.78it/s]\n"
     ]
    },
    {
     "name": "stdout",
     "output_type": "stream",
     "text": [
      "Saved: processed_title_chunks\\title_features_batch_11.csv\n",
      "Processing batch 12/15 — Rows 55000 to 60000\n"
     ]
    },
    {
     "name": "stderr",
     "output_type": "stream",
     "text": [
      "Pandas Apply: 100%|██████████| 5000/5000 [00:00<00:00, 107077.86it/s]\n",
      "Pandas Apply: 100%|██████████| 5000/5000 [00:00<00:00, 618391.77it/s]\n",
      "Pandas Apply: 100%|██████████| 5000/5000 [00:00<00:00, 326913.80it/s]\n",
      "Pandas Apply: 100%|██████████| 5000/5000 [00:17<00:00, 285.42it/s]\n",
      "Pandas Apply: 100%|██████████| 5000/5000 [00:00<00:00, 17932.84it/s]\n",
      "Pandas Apply: 100%|██████████| 5000/5000 [00:00<00:00, 11849.89it/s]\n",
      "Pandas Apply: 100%|██████████| 5000/5000 [00:34<00:00, 144.41it/s]\n",
      "Pandas Apply: 100%|██████████| 5000/5000 [00:00<00:00, 553747.36it/s]\n",
      "Pandas Apply: 100%|██████████| 5000/5000 [00:00<00:00, 359273.62it/s]\n"
     ]
    },
    {
     "name": "stdout",
     "output_type": "stream",
     "text": [
      "Saved: processed_title_chunks\\title_features_batch_12.csv\n",
      "Processing batch 13/15 — Rows 60000 to 65000\n"
     ]
    },
    {
     "name": "stderr",
     "output_type": "stream",
     "text": [
      "Pandas Apply: 100%|██████████| 5000/5000 [00:00<00:00, 117379.66it/s]\n",
      "Pandas Apply: 100%|██████████| 5000/5000 [00:00<00:00, 472896.02it/s]\n",
      "Pandas Apply: 100%|██████████| 5000/5000 [00:00<00:00, 247512.89it/s]\n",
      "Pandas Apply: 100%|██████████| 5000/5000 [00:17<00:00, 284.69it/s]\n",
      "Pandas Apply: 100%|██████████| 5000/5000 [00:00<00:00, 18461.50it/s]\n",
      "Pandas Apply: 100%|██████████| 5000/5000 [00:00<00:00, 11744.05it/s]\n",
      "Pandas Apply: 100%|██████████| 5000/5000 [00:34<00:00, 143.75it/s]\n",
      "Pandas Apply: 100%|██████████| 5000/5000 [00:00<00:00, 500776.54it/s]\n",
      "Pandas Apply: 100%|██████████| 5000/5000 [00:00<00:00, 443353.77it/s]\n"
     ]
    },
    {
     "name": "stdout",
     "output_type": "stream",
     "text": [
      "Saved: processed_title_chunks\\title_features_batch_13.csv\n",
      "Processing batch 14/15 — Rows 65000 to 70000\n"
     ]
    },
    {
     "name": "stderr",
     "output_type": "stream",
     "text": [
      "Pandas Apply: 100%|██████████| 5000/5000 [00:00<00:00, 107377.21it/s]\n",
      "Pandas Apply: 100%|██████████| 5000/5000 [00:00<00:00, 545196.28it/s]\n",
      "Pandas Apply: 100%|██████████| 5000/5000 [00:00<00:00, 248151.36it/s]\n",
      "Pandas Apply: 100%|██████████| 5000/5000 [00:17<00:00, 287.79it/s]\n",
      "Pandas Apply: 100%|██████████| 5000/5000 [00:00<00:00, 18286.89it/s]\n",
      "Pandas Apply: 100%|██████████| 5000/5000 [00:00<00:00, 12089.58it/s]\n",
      "Pandas Apply: 100%|██████████| 5000/5000 [00:35<00:00, 142.02it/s]\n",
      "Pandas Apply: 100%|██████████| 5000/5000 [00:00<00:00, 534619.52it/s]\n",
      "Pandas Apply: 100%|██████████| 5000/5000 [00:00<00:00, 459227.01it/s]\n"
     ]
    },
    {
     "name": "stdout",
     "output_type": "stream",
     "text": [
      "Saved: processed_title_chunks\\title_features_batch_14.csv\n",
      "Processing batch 15/15 — Rows 70000 to 70793\n"
     ]
    },
    {
     "name": "stderr",
     "output_type": "stream",
     "text": [
      "Pandas Apply: 100%|██████████| 793/793 [00:00<00:00, 304224.19it/s]\n",
      "Pandas Apply: 100%|██████████| 793/793 [00:00<00:00, 352526.03it/s]\n",
      "Pandas Apply: 100%|██████████| 793/793 [00:00<00:00, 154989.89it/s]\n",
      "Pandas Apply: 100%|██████████| 793/793 [00:02<00:00, 280.53it/s]\n",
      "Pandas Apply: 100%|██████████| 793/793 [00:00<00:00, 16238.58it/s]\n",
      "Pandas Apply: 100%|██████████| 793/793 [00:00<00:00, 12202.67it/s]\n",
      "Pandas Apply: 100%|██████████| 793/793 [00:05<00:00, 154.12it/s]\n",
      "Pandas Apply: 100%|██████████| 793/793 [00:00<00:00, 290741.53it/s]\n",
      "Pandas Apply: 100%|██████████| 793/793 [00:00<00:00, 413743.38it/s]\n"
     ]
    },
    {
     "name": "stdout",
     "output_type": "stream",
     "text": [
      "Saved: processed_title_chunks\\title_features_batch_15.csv\n"
     ]
    }
   ],
   "source": [
    "process_and_save_in_batches(df, batch_size=5000)\n",
    "\n",
    "import glob\n",
    "\n",
    "title_features = pd.concat(\n",
    "    [pd.read_csv(f) for f in sorted(glob.glob(\"processed_title_chunks/title_features_batch_*.csv\"))],\n",
    "    ignore_index=True\n",
    ")\n",
    "\n"
   ]
  },
  {
   "cell_type": "code",
   "execution_count": 17,
   "id": "79f53ce0",
   "metadata": {},
   "outputs": [
    {
     "data": {
      "application/vnd.microsoft.datawrangler.viewer.v0+json": {
       "columns": [
        {
         "name": "index",
         "rawType": "int64",
         "type": "integer"
        },
        {
         "name": "title",
         "rawType": "object",
         "type": "string"
        },
        {
         "name": "text",
         "rawType": "object",
         "type": "string"
        },
        {
         "name": "label",
         "rawType": "int64",
         "type": "integer"
        },
        {
         "name": "title_word_count",
         "rawType": "int64",
         "type": "integer"
        },
        {
         "name": "title_allcaps_ratio",
         "rawType": "float64",
         "type": "float"
        },
        {
         "name": "title_exclaim_count",
         "rawType": "int64",
         "type": "integer"
        },
        {
         "name": "title_question_count",
         "rawType": "int64",
         "type": "integer"
        },
        {
         "name": "title_quote_count",
         "rawType": "int64",
         "type": "integer"
        },
        {
         "name": "title_pronoun_ratio",
         "rawType": "float64",
         "type": "float"
        },
        {
         "name": "title_fk_grade",
         "rawType": "float64",
         "type": "float"
        },
        {
         "name": "title_gunning_fog",
         "rawType": "float64",
         "type": "float"
        },
        {
         "name": "title_negemo",
         "rawType": "float64",
         "type": "float"
        },
        {
         "name": "title_posemo",
         "rawType": "float64",
         "type": "float"
        }
       ],
       "ref": "486bdca3-2d92-451d-9a39-370cd8c19261",
       "rows": [
        [
         "0",
         "law enforcement on high alert following threats against cops and whites on 9-11by #blacklivesmatter and #fyf911 terrorists [video]",
         "no comment is expected from barack obama members of the #fyf911 or #fukyoflag and #blacklivesmatter movements called for the lynching and hanging of white people and cops. they encouraged others on a radio show tuesday night to turn the tide and kill white people and cops to send a message about the killing of black people in america.one of the f***yoflag organizers is called sunshine. she has a radio blog show hosted from texas called, sunshine s f***ing opinion radio show. a snapshot of her #fyf911 @lolatwhitefear twitter page at 9:53 p.m. shows that she was urging supporters to call now!! #fyf911 tonight we continue to dismantle the illusion of white below is a snapshot twitter radio call invite #fyf911the radio show aired at 10:00 p.m. eastern standard time.during the show, callers clearly call for lynching and killing of white people.a 2:39 minute clip from the radio show can be heard here. it was provided to breitbart texas by someone who would like to be referred to as hannibal. he has already received death threats as a result of interrupting #fyf911 conference calls.an unidentified black man said when those mother f**kers are by themselves, that s when when we should start f***ing them up. like they do us, when a bunch of them ni**ers takin one of us out, that s how we should roll up. he said, cause we already roll up in gangs anyway. there should be six or seven black mother f**ckers, see that white person, and then lynch their ass. let s turn the tables. they conspired that if cops started losing people, then there will be a state of emergency. he speculated that one of two things would happen, a big-ass [r s?????] war, or ni**ers, they are going to start backin up. we are already getting killed out here so what the f**k we got to lose? sunshine could be heard saying, yep, that s true. that s so f**king true. he said, we need to turn the tables on them. our kids are getting shot out here. somebody needs to become a sacrifice on their side.he said, everybody ain t down for that s**t, or whatever, but like i say, everybody has a different position of war. he continued, because they don t give a f**k anyway. he said again, we might as well utilized them for that s**t and turn the tables on these n**ers. he said, that way we can start lookin like we ain t havin that many casualties, and there can be more causalities on their side instead of ours. they are out their killing black people, black lives don t matter, that s what those mother f**kers so we got to make it matter to them. find a mother f**ker that is alone. snap his ass, and then f***in hang him from a damn tree. take a picture of it and then send it to the mother f**kers. we just need one example, and then people will start watchin . this will turn the tables on s**t, he said. he said this will start a trickle-down effect. he said that when one white person is hung and then they are just flat-hanging, that will start the trickle-down effect. he continued, black people are good at starting trends. he said that was how to get the upper-hand. another black man spoke up saying they needed to kill cops that are killing us. the first black male said, that will be the best method right there. breitbart texas previously reported how sunshine was upset when racist white people infiltrated and disrupted one of her conference calls. she subsequently released the phone number of one of the infiltrators. the veteran immediately started receiving threatening calls.one of the #f***yoflag movement supporters allegedly told a veteran who infiltrated their publicly posted conference call, we are going to rape and gut your pregnant wife, and your f***ing piece of sh*t unborn creature will be hung from a tree. breitbart texas previously encountered sunshine at a sandra bland protest at the waller county jail in texas, where she said all white people should be killed. she told journalists and photographers, you see this nappy-ass hair on my head? that means i am one of those more militant negroes. she said she was at the protest because these redneck mother-f**kers murdered sandra bland because she had nappy hair like me. #fyf911 black radicals say they will be holding the imperial powers that are actually responsible for the terrorist attacks on september 11th accountable on that day, as reported by breitbart texas. there are several websites and twitter handles for the movement. palmetto star describes himself as one of the head organizers. he said in a youtube video that supporters will be burning their symbols of the illusion of their superiority, their false white supremacy, like the american flag, the british flag, police uniforms, and ku klux klan hoods.sierra mcgrone or nocturnus libertus posted, you too can help a young afrikan clean their a** with the rag of oppression. she posted two photos, one that appears to be herself, and a photo of a black man, wiping their naked butts with the american flag.for entire story: breitbart news",
         "1",
         "18",
         "0.0",
         "0",
         "0",
         "0",
         "0.0",
         "12.407777777777778",
         "16.08888888888889",
         "0.0",
         "0.0"
        ],
        [
         "1",
         "unbelievable! obama’s attorney general says most charlotte rioters were “peaceful” protesters…in her home state of north carolina [video]",
         "now, most of the demonstrators gathered last night were exercising their constitutional and protected right to peaceful protest in order to raise issues and create change. loretta lynch aka eric holder in a skirt",
         "1",
         "18",
         "0.0",
         "1",
         "0",
         "0",
         "0.0384615384615384",
         "15.03",
         "18.311111111111117",
         "0.0",
         "0.0"
        ],
        [
         "2",
         "bobby jindal, raised hindu, uses story of christian conversion to woo evangelicals for potential 2016 bid",
         "a dozen politically active pastors came here for a private dinner friday night to hear a conversion story unique in the context of presidential politics: how louisiana gov. bobby jindal traveled from hinduism to protestant christianity and, ultimately, became what he calls an “evangelical catholic.” over two hours, jindal, 42, recalled talking with a girl in high school who wanted to “save my soul,” reading the bible in a closet so his parents would not see him and feeling a stir while watching a movie during his senior year that depicted jesus on the cross. “i was struck, and struck hard,” jindal told the pastors. “this was the son of god, and he had died for our sins.” jindal’s session with the christian clergy, who lead congregations in the early presidential battleground states of iowa and south carolina, was part of a behind-the-scenes effort by the louisiana governor to find a political base that could help propel him into the top tier of republican candidates seeking to run for the white house in 2016. known in gop circles mostly for his mastery of policy issues such as health care, jindal, a rhodes scholar and graduate of the ivy league’s brown university, does not have an obvious pool of activist supporters to help drive excitement outside his home state. so he is harnessing his religious experience in a way that has begun to appeal to parts of the gop’s influential core of religious conservatives, many of whom have yet to find a favorite among the republicans eyeing the presidential race. other potential 2016 gop candidates are wooing the evangelical base, including sens. rand paul (ky.) and ted cruz (tex.) and indiana gov. mike pence. but over the weekend in lynchburg — a mecca of sorts for evangelicals as the home of liberty university, founded in the 1970s by the rev. jerry falwell — jindal appeared to make progress. in addition to his dinner with the pastors, he delivered a well-received “call to action” address to 40,000 christian conservatives gathered for liberty’s commencement ceremony, talking again about his faith while assailing what he said was president obama’s record of attacking religious liberty. the pastors who came to meet jindal said his intimate descriptions of his experiences stood out. “he has the convictions, and he has what it takes to communicate them,” said brad sherman of solid rock christian church in coralville, iowa. sherman helped former arkansas governor mike huckabee in his winning 2008 campaign for delegates in iowa. another huckabee admirer, the rev. c. mitchell brooks of second baptist church in belton, s.c., said jindal’s commitment to christian values and his compelling story put him “on a par” with huckabee, who was a baptist preacher before entering politics. the visiting pastors flew to lynchburg over the weekend at the invitation of the american renewal project, a well-funded nonprofit group that encourages evangelical christians to engage in the civic arena with voter guides, get-out-the-vote drives and programs to train pastors in grass-roots activism. the group’s founder, david lane, has built a pastor network in politically important states such as iowa, missouri, ohio and south carolina and has led trips to israel with paul and others seeking to make inroads with evangelical activists. the group that lane invited to lynchburg included donald wild­mon, a retired minister and founder of the american family association, a prominent evangelical activist group that has influence through its network of more than 140 christian radio stations. most of the pastors that lane’s organization brought to lynchburg had not met jindal. but they said he captured their interest recently when he stepped forward to defend phil robertson, patriarch of the “duck dynasty” television-show family, amid a controversy over disparaging remarks he made about gays in an interview with gq magazine. throughout his lynchburg visit, jindal presented himself as a willing culture warrior. during his commencement address saturday, he took up the cause of twin brothers whose hgtv reality series about renovating and reselling houses, “flip it forward,” was canceled last week after a web site revealed that they had protested against same-sex marriage at the 2012 democratic national convention in charlotte. the siblings, jason and david benham, both liberty graduates, attended the graduation and a private lunch with jindal, who called the action against them “another demonstration of intolerance from the entertainment industry.” “if these guys had protested at the republican party convention, instead of canceling their show, hgtv would probably have given them a raise,” jindal said as the liberty crowd applauded. he cited the hobby lobby craft store chain, which faced a legal challenge after refusing to provide employees with insurance coverage for contraceptives as required under the affordable care act. members of the family that owns hobby lobby, who have become heroes to many religious conservatives, have said that they are morally opposed to the use of certain types of birth control and that they considered the requirement a violation of their first amendment right to religious freedom. the family was “committed to honor the lord by being generous employers, paying well above minimum wage and increasing salaries four years in a row even in the midst of the enduring recession,” jindal told the liberty graduates. “none of this matters to the obama administration.” but for the pastors who came to see jindal in action, the governor’s own story was the highlight of the weekend. and in many ways, he was unlike any other aspiring president these activists had met. piyush jindal was born in 1971, four months after his parents arrived in baton rouge, la., from their native india. he changed his name to bobby as a young boy, adopting the name of a character on a favorite television show, “the brady bunch.” his decision to become a christian, he told the pastors, did not come in one moment of lightning epiphany. instead, he said, it happened in phases, growing from small seeds planted over time. jindal recalled that his closest friend from grade school gave him a bible with his name emblazoned in gold on the cover as a christmas present. it struck him initially as an unimpressive gift, jindal told the pastors. “who in the world would spend good money for a bible when everyone knows you can get one free in any hotel?” he recalled thinking at the time. “and the gold lettering meant i couldn’t give it away or return it.” his religious education reached a higher plane during his junior year in high school, he told his dinner audience. he wanted to ask a pretty girl on a date during a hallway conversation, and she started talking about her faith in god and her opposition to abortion. the girl invited him to visit her church. jindal said he was skeptical and set out to “investigate all these fanciful claims” made by the girl and other friends. he started reading the bible in his closet at home. “i was unsure how my parents would react,” he said. after the stirring moment when he saw christ depicted on the cross during the religious movie, the bible and his very existence suddenly seemed clearer to him, jindal told the pastors. jindal did not dwell on his subsequent conversion to catholicism just a few years later in college, where he said he immersed himself in the traditions of the church. he touched on it briefly during the commencement address, noting in passing that “i am best described as an evangelical catholic.” mostly, he sought to showcase the ways in which he shares values with other christian conservatives. “i read the words of jesus christ, and i realized that they were true,” jindal told the graduates saturday, offering a less detailed accounting of his conversion than he had done the night before with the pastors. “i used to think that i had found god, but i believe it is more accurate to say that he found me.”",
         "0",
         "16",
         "0.0",
         "0",
         "0",
         "0",
         "0.0",
         "12.775000000000002",
         "13.9",
         "0.0",
         "0.0"
        ],
        [
         "3",
         "satan 2: russia unvelis an image of its terrifying new ‘supernuke’ – western world takes notice",
         "the rs-28 sarmat missile, dubbed satan 2, will replace the ss-18 flies at 4.3 miles (7km) per sec and with a range of 6,213 miles (10,000km) the weapons are perceived as part of an increasingly aggressive russia it could deliver a warhead of 40 megatons – 2,000 times as powerful as the atom bombs dropped on hiroshima and nagasaki in 1945 by libby plummer and gareth davie s russia has unveiled chilling pictures of its largest ever nuclear missile, capable of destroying an area the size of france. the rs-28 sarmat missile, dubbed satan 2 by nato, has a top speed of 4.3 miles (7km) per second and has been designed to outfox anti-missile shield systems. the new sarmat missile could deliver warheads of 40 megatons – 2,000 times as powerful as the atom bombs dropped on hiroshima and nagasaki in 1945. scroll down for video russian president vladimir putin is reportedly planning to replace the country’s older ss-18 satan weapons with the new missiles amid a string of recent disagreements with the west. the kremlin has stepped up the rhetoric against the west and carried a series of manoeuvres that has infuriated politicians in the us and uk. the pictures were revealed online by chief designers from the makeyev rocket design bureau. a message posted alongside the picture said: ‘in accordance with the decree of the russian government ‘on the state defense order for 2010 and the planning period 2012-2013’, the makeyev rocket design bureau was instructed to start design and development work on the sarmat. ‘ the rs-28 sarmat missile is said to contain 16 nuclear warheads and is capable of destroying an area the size of france or texas, according to russian news network zvezda, which is owned by russia’s ministry of defence. the weapon is also able to evade radar. it is expected to have a range of 6,213 miles (10,000 km), which would allow moscow to attack london and for entire article click link",
         "1",
         "16",
         "0.0",
         "0",
         "0",
         "0",
         "0.0526315789473684",
         "10.713333333333338",
         "11.333333333333336",
         "0.0",
         "0.0"
        ],
        [
         "4",
         "about time! christian group sues amazon and splc for designation as hate group",
         "all we can say on this one is it s about time someone sued the southern poverty law center!on tuesday, d. james kennedy ministries (djkm) filed a lawsuit against the southern poverty law center (splc), the charity navigation organization guidestar, and amazon, for defamation, religious discrimination, and trafficking in falsehood. the splc listed djkm as a hate group, while guidestar also categorized it in those terms, and amazon kept the ministry off of its charity donation program, amazon smile. we embarked today on a journey to right a terrible wrong, dr. frank wright, president and ceo at djkm, said in a statement tuesday. those who knowingly label christian ministries as hate groups, solely for subscribing to the historic christian faith, are either woefully uninformed or willfully deceitful. in the case of the southern poverty law center, our lawsuit alleges the latter. the splc has labeled djkm an anti-lgbt hate group for its opposition to same-sex marriage and transgenderism. these false and illegal characterizations have a chilling effect on the free exercise of religion and on religious free speech for all people of faith, wright declared. after having given the splc an opportunity to retract, we have undertaken this legal action, seeking a trial by a jury of our peers, to preserve our own rights under the law and to defend the religious free speech rights of all americans, the djkm president concluded.the lawsuit laid out charges against the splc, guidestar, and amazon.read more: pjm",
         "1",
         "13",
         "0.0",
         "1",
         "0",
         "0",
         "0.0",
         "7.633846153846157",
         "11.353846153846156",
         "0.0769230769230769",
         "0.0"
        ]
       ],
       "shape": {
        "columns": 13,
        "rows": 5
       }
      },
      "text/html": [
       "<div>\n",
       "<style scoped>\n",
       "    .dataframe tbody tr th:only-of-type {\n",
       "        vertical-align: middle;\n",
       "    }\n",
       "\n",
       "    .dataframe tbody tr th {\n",
       "        vertical-align: top;\n",
       "    }\n",
       "\n",
       "    .dataframe thead th {\n",
       "        text-align: right;\n",
       "    }\n",
       "</style>\n",
       "<table border=\"1\" class=\"dataframe\">\n",
       "  <thead>\n",
       "    <tr style=\"text-align: right;\">\n",
       "      <th></th>\n",
       "      <th>title</th>\n",
       "      <th>text</th>\n",
       "      <th>label</th>\n",
       "      <th>title_word_count</th>\n",
       "      <th>title_allcaps_ratio</th>\n",
       "      <th>title_exclaim_count</th>\n",
       "      <th>title_question_count</th>\n",
       "      <th>title_quote_count</th>\n",
       "      <th>title_pronoun_ratio</th>\n",
       "      <th>title_fk_grade</th>\n",
       "      <th>title_gunning_fog</th>\n",
       "      <th>title_negemo</th>\n",
       "      <th>title_posemo</th>\n",
       "    </tr>\n",
       "  </thead>\n",
       "  <tbody>\n",
       "    <tr>\n",
       "      <th>0</th>\n",
       "      <td>law enforcement on high alert following threat...</td>\n",
       "      <td>no comment is expected from barack obama membe...</td>\n",
       "      <td>1</td>\n",
       "      <td>18</td>\n",
       "      <td>0.0</td>\n",
       "      <td>0</td>\n",
       "      <td>0</td>\n",
       "      <td>0</td>\n",
       "      <td>0.000000</td>\n",
       "      <td>12.407778</td>\n",
       "      <td>16.088889</td>\n",
       "      <td>0.000000</td>\n",
       "      <td>0.0</td>\n",
       "    </tr>\n",
       "    <tr>\n",
       "      <th>1</th>\n",
       "      <td>unbelievable! obama’s attorney general says mo...</td>\n",
       "      <td>now, most of the demonstrators gathered last n...</td>\n",
       "      <td>1</td>\n",
       "      <td>18</td>\n",
       "      <td>0.0</td>\n",
       "      <td>1</td>\n",
       "      <td>0</td>\n",
       "      <td>0</td>\n",
       "      <td>0.038462</td>\n",
       "      <td>15.030000</td>\n",
       "      <td>18.311111</td>\n",
       "      <td>0.000000</td>\n",
       "      <td>0.0</td>\n",
       "    </tr>\n",
       "    <tr>\n",
       "      <th>2</th>\n",
       "      <td>bobby jindal, raised hindu, uses story of chri...</td>\n",
       "      <td>a dozen politically active pastors came here f...</td>\n",
       "      <td>0</td>\n",
       "      <td>16</td>\n",
       "      <td>0.0</td>\n",
       "      <td>0</td>\n",
       "      <td>0</td>\n",
       "      <td>0</td>\n",
       "      <td>0.000000</td>\n",
       "      <td>12.775000</td>\n",
       "      <td>13.900000</td>\n",
       "      <td>0.000000</td>\n",
       "      <td>0.0</td>\n",
       "    </tr>\n",
       "    <tr>\n",
       "      <th>3</th>\n",
       "      <td>satan 2: russia unvelis an image of its terrif...</td>\n",
       "      <td>the rs-28 sarmat missile, dubbed satan 2, will...</td>\n",
       "      <td>1</td>\n",
       "      <td>16</td>\n",
       "      <td>0.0</td>\n",
       "      <td>0</td>\n",
       "      <td>0</td>\n",
       "      <td>0</td>\n",
       "      <td>0.052632</td>\n",
       "      <td>10.713333</td>\n",
       "      <td>11.333333</td>\n",
       "      <td>0.000000</td>\n",
       "      <td>0.0</td>\n",
       "    </tr>\n",
       "    <tr>\n",
       "      <th>4</th>\n",
       "      <td>about time! christian group sues amazon and sp...</td>\n",
       "      <td>all we can say on this one is it s about time ...</td>\n",
       "      <td>1</td>\n",
       "      <td>13</td>\n",
       "      <td>0.0</td>\n",
       "      <td>1</td>\n",
       "      <td>0</td>\n",
       "      <td>0</td>\n",
       "      <td>0.000000</td>\n",
       "      <td>7.633846</td>\n",
       "      <td>11.353846</td>\n",
       "      <td>0.076923</td>\n",
       "      <td>0.0</td>\n",
       "    </tr>\n",
       "  </tbody>\n",
       "</table>\n",
       "</div>"
      ],
      "text/plain": [
       "                                               title  \\\n",
       "0  law enforcement on high alert following threat...   \n",
       "1  unbelievable! obama’s attorney general says mo...   \n",
       "2  bobby jindal, raised hindu, uses story of chri...   \n",
       "3  satan 2: russia unvelis an image of its terrif...   \n",
       "4  about time! christian group sues amazon and sp...   \n",
       "\n",
       "                                                text  label  title_word_count  \\\n",
       "0  no comment is expected from barack obama membe...      1                18   \n",
       "1  now, most of the demonstrators gathered last n...      1                18   \n",
       "2  a dozen politically active pastors came here f...      0                16   \n",
       "3  the rs-28 sarmat missile, dubbed satan 2, will...      1                16   \n",
       "4  all we can say on this one is it s about time ...      1                13   \n",
       "\n",
       "   title_allcaps_ratio  title_exclaim_count  title_question_count  \\\n",
       "0                  0.0                    0                     0   \n",
       "1                  0.0                    1                     0   \n",
       "2                  0.0                    0                     0   \n",
       "3                  0.0                    0                     0   \n",
       "4                  0.0                    1                     0   \n",
       "\n",
       "   title_quote_count  title_pronoun_ratio  title_fk_grade  title_gunning_fog  \\\n",
       "0                  0             0.000000       12.407778          16.088889   \n",
       "1                  0             0.038462       15.030000          18.311111   \n",
       "2                  0             0.000000       12.775000          13.900000   \n",
       "3                  0             0.052632       10.713333          11.333333   \n",
       "4                  0             0.000000        7.633846          11.353846   \n",
       "\n",
       "   title_negemo  title_posemo  \n",
       "0      0.000000           0.0  \n",
       "1      0.000000           0.0  \n",
       "2      0.000000           0.0  \n",
       "3      0.000000           0.0  \n",
       "4      0.076923           0.0  "
      ]
     },
     "execution_count": 17,
     "metadata": {},
     "output_type": "execute_result"
    }
   ],
   "source": [
    "title_features.head()"
   ]
  },
  {
   "cell_type": "code",
   "execution_count": 18,
   "id": "9f2f0b1d",
   "metadata": {},
   "outputs": [
    {
     "data": {
      "text/plain": [
       "(70793, 3)"
      ]
     },
     "execution_count": 18,
     "metadata": {},
     "output_type": "execute_result"
    }
   ],
   "source": [
    "df.shape"
   ]
  },
  {
   "cell_type": "code",
   "execution_count": 19,
   "id": "925f62e5",
   "metadata": {},
   "outputs": [
    {
     "data": {
      "text/plain": [
       "(70793, 13)"
      ]
     },
     "execution_count": 19,
     "metadata": {},
     "output_type": "execute_result"
    }
   ],
   "source": [
    "title_features.shape"
   ]
  },
  {
   "cell_type": "code",
   "execution_count": 20,
   "id": "6b193c35",
   "metadata": {},
   "outputs": [],
   "source": [
    "title_features.drop(columns = ['title', 'text', 'label'], inplace = True)"
   ]
  },
  {
   "cell_type": "code",
   "execution_count": 23,
   "id": "d64a2288",
   "metadata": {},
   "outputs": [],
   "source": [
    "title_features.to_csv('../Dataset/title_features.csv')"
   ]
  },
  {
   "cell_type": "code",
   "execution_count": null,
   "id": "031dc708",
   "metadata": {},
   "outputs": [],
   "source": []
  }
 ],
 "metadata": {
  "kernelspec": {
   "display_name": "DeceptionNLP",
   "language": "python",
   "name": "python3"
  },
  "language_info": {
   "codemirror_mode": {
    "name": "ipython",
    "version": 3
   },
   "file_extension": ".py",
   "mimetype": "text/x-python",
   "name": "python",
   "nbconvert_exporter": "python",
   "pygments_lexer": "ipython3",
   "version": "3.13.5"
  }
 },
 "nbformat": 4,
 "nbformat_minor": 5
}
