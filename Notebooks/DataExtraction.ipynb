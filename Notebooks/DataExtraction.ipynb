{
 "cells": [
  {
   "cell_type": "code",
   "execution_count": 64,
   "id": "e5515366",
   "metadata": {},
   "outputs": [],
   "source": [
    "import pandas as pd\n",
    "import seaborn as sns\n",
    "import matplotlib.pyplot as plt\n",
    "%matplotlib inline\n",
    "import swifter\n",
    "import re \n",
    "\n",
    "# === SYSTEM / MISC ===\n",
    "import os\n",
    "import warnings\n",
    "warnings.filterwarnings('ignore')\n"
   ]
  },
  {
   "cell_type": "code",
   "execution_count": 74,
   "id": "d5b84076",
   "metadata": {},
   "outputs": [
    {
     "data": {
      "text/plain": [
       "1434"
      ]
     },
     "execution_count": 74,
     "metadata": {},
     "output_type": "execute_result"
    }
   ],
   "source": [
    "import gc \n",
    "gc.collect()"
   ]
  },
  {
   "cell_type": "code",
   "execution_count": 75,
   "id": "ff4d5e45",
   "metadata": {},
   "outputs": [],
   "source": [
    "sns.set_theme(style=\"whitegrid\", palette=\"muted\", font_scale=1.2)"
   ]
  },
  {
   "cell_type": "markdown",
   "id": "712eb476",
   "metadata": {},
   "source": [
    "# 1. Cleaning and Data Extraction"
   ]
  },
  {
   "cell_type": "code",
   "execution_count": 76,
   "id": "1f4d56f1",
   "metadata": {},
   "outputs": [],
   "source": [
    "df = pd.read_csv('../Dataset/WELFake_Dataset.csv')"
   ]
  },
  {
   "cell_type": "code",
   "execution_count": 77,
   "id": "25c41c5c",
   "metadata": {},
   "outputs": [
    {
     "data": {
      "application/vnd.microsoft.datawrangler.viewer.v0+json": {
       "columns": [
        {
         "name": "index",
         "rawType": "int64",
         "type": "integer"
        },
        {
         "name": "Unnamed: 0",
         "rawType": "int64",
         "type": "integer"
        },
        {
         "name": "title",
         "rawType": "object",
         "type": "string"
        },
        {
         "name": "text",
         "rawType": "object",
         "type": "string"
        },
        {
         "name": "label",
         "rawType": "int64",
         "type": "integer"
        }
       ],
       "ref": "b0a12c21-6c97-42bb-a2e6-e9e99dfea742",
       "rows": [
        [
         "0",
         "0",
         "law enforcement on high alert following threats against cops and whites on 9-11by #blacklivesmatter and #fyf911 terrorists [video]",
         "no comment is expected from barack obama members of the #fyf911 or #fukyoflag and #blacklivesmatter movements called for the lynching and hanging of white people and cops. they encouraged others on a radio show tuesday night to turn the tide and kill white people and cops to send a message about the killing of black people in america.one of the f***yoflag organizers is called sunshine. she has a radio blog show hosted from texas called, sunshine s f***ing opinion radio show. a snapshot of her #fyf911 @lolatwhitefear twitter page at 9:53 p.m. shows that she was urging supporters to call now!! #fyf911 tonight we continue to dismantle the illusion of white below is a snapshot twitter radio call invite #fyf911the radio show aired at 10:00 p.m. eastern standard time.during the show, callers clearly call for lynching and killing of white people.a 2:39 minute clip from the radio show can be heard here. it was provided to breitbart texas by someone who would like to be referred to as hannibal. he has already received death threats as a result of interrupting #fyf911 conference calls.an unidentified black man said when those mother f**kers are by themselves, that s when when we should start f***ing them up. like they do us, when a bunch of them ni**ers takin one of us out, that s how we should roll up. he said, cause we already roll up in gangs anyway. there should be six or seven black mother f**ckers, see that white person, and then lynch their ass. let s turn the tables. they conspired that if cops started losing people, then there will be a state of emergency. he speculated that one of two things would happen, a big-ass [r s?????] war, or ni**ers, they are going to start backin up. we are already getting killed out here so what the f**k we got to lose? sunshine could be heard saying, yep, that s true. that s so f**king true. he said, we need to turn the tables on them. our kids are getting shot out here. somebody needs to become a sacrifice on their side.he said, everybody ain t down for that s**t, or whatever, but like i say, everybody has a different position of war. he continued, because they don t give a f**k anyway. he said again, we might as well utilized them for that s**t and turn the tables on these n**ers. he said, that way we can start lookin like we ain t havin that many casualties, and there can be more causalities on their side instead of ours. they are out their killing black people, black lives don t matter, that s what those mother f**kers so we got to make it matter to them. find a mother f**ker that is alone. snap his ass, and then f***in hang him from a damn tree. take a picture of it and then send it to the mother f**kers. we just need one example, and then people will start watchin . this will turn the tables on s**t, he said. he said this will start a trickle-down effect. he said that when one white person is hung and then they are just flat-hanging, that will start the trickle-down effect. he continued, black people are good at starting trends. he said that was how to get the upper-hand. another black man spoke up saying they needed to kill cops that are killing us. the first black male said, that will be the best method right there. breitbart texas previously reported how sunshine was upset when racist white people infiltrated and disrupted one of her conference calls. she subsequently released the phone number of one of the infiltrators. the veteran immediately started receiving threatening calls.one of the #f***yoflag movement supporters allegedly told a veteran who infiltrated their publicly posted conference call, we are going to rape and gut your pregnant wife, and your f***ing piece of sh*t unborn creature will be hung from a tree. breitbart texas previously encountered sunshine at a sandra bland protest at the waller county jail in texas, where she said all white people should be killed. she told journalists and photographers, you see this nappy-ass hair on my head? that means i am one of those more militant negroes. she said she was at the protest because these redneck mother-f**kers murdered sandra bland because she had nappy hair like me. #fyf911 black radicals say they will be holding the imperial powers that are actually responsible for the terrorist attacks on september 11th accountable on that day, as reported by breitbart texas. there are several websites and twitter handles for the movement. palmetto star describes himself as one of the head organizers. he said in a youtube video that supporters will be burning their symbols of the illusion of their superiority, their false white supremacy, like the american flag, the british flag, police uniforms, and ku klux klan hoods.sierra mcgrone or nocturnus libertus posted, you too can help a young afrikan clean their a** with the rag of oppression. she posted two photos, one that appears to be herself, and a photo of a black man, wiping their naked butts with the american flag.for entire story: breitbart news",
         "1"
        ],
        [
         "1",
         "2",
         "unbelievable! obama’s attorney general says most charlotte rioters were “peaceful” protesters…in her home state of north carolina [video]",
         "now, most of the demonstrators gathered last night were exercising their constitutional and protected right to peaceful protest in order to raise issues and create change. loretta lynch aka eric holder in a skirt",
         "1"
        ],
        [
         "2",
         "3",
         "bobby jindal, raised hindu, uses story of christian conversion to woo evangelicals for potential 2016 bid",
         "a dozen politically active pastors came here for a private dinner friday night to hear a conversion story unique in the context of presidential politics: how louisiana gov. bobby jindal traveled from hinduism to protestant christianity and, ultimately, became what he calls an “evangelical catholic.” over two hours, jindal, 42, recalled talking with a girl in high school who wanted to “save my soul,” reading the bible in a closet so his parents would not see him and feeling a stir while watching a movie during his senior year that depicted jesus on the cross. “i was struck, and struck hard,” jindal told the pastors. “this was the son of god, and he had died for our sins.” jindal’s session with the christian clergy, who lead congregations in the early presidential battleground states of iowa and south carolina, was part of a behind-the-scenes effort by the louisiana governor to find a political base that could help propel him into the top tier of republican candidates seeking to run for the white house in 2016. known in gop circles mostly for his mastery of policy issues such as health care, jindal, a rhodes scholar and graduate of the ivy league’s brown university, does not have an obvious pool of activist supporters to help drive excitement outside his home state. so he is harnessing his religious experience in a way that has begun to appeal to parts of the gop’s influential core of religious conservatives, many of whom have yet to find a favorite among the republicans eyeing the presidential race. other potential 2016 gop candidates are wooing the evangelical base, including sens. rand paul (ky.) and ted cruz (tex.) and indiana gov. mike pence. but over the weekend in lynchburg — a mecca of sorts for evangelicals as the home of liberty university, founded in the 1970s by the rev. jerry falwell — jindal appeared to make progress. in addition to his dinner with the pastors, he delivered a well-received “call to action” address to 40,000 christian conservatives gathered for liberty’s commencement ceremony, talking again about his faith while assailing what he said was president obama’s record of attacking religious liberty. the pastors who came to meet jindal said his intimate descriptions of his experiences stood out. “he has the convictions, and he has what it takes to communicate them,” said brad sherman of solid rock christian church in coralville, iowa. sherman helped former arkansas governor mike huckabee in his winning 2008 campaign for delegates in iowa. another huckabee admirer, the rev. c. mitchell brooks of second baptist church in belton, s.c., said jindal’s commitment to christian values and his compelling story put him “on a par” with huckabee, who was a baptist preacher before entering politics. the visiting pastors flew to lynchburg over the weekend at the invitation of the american renewal project, a well-funded nonprofit group that encourages evangelical christians to engage in the civic arena with voter guides, get-out-the-vote drives and programs to train pastors in grass-roots activism. the group’s founder, david lane, has built a pastor network in politically important states such as iowa, missouri, ohio and south carolina and has led trips to israel with paul and others seeking to make inroads with evangelical activists. the group that lane invited to lynchburg included donald wild­mon, a retired minister and founder of the american family association, a prominent evangelical activist group that has influence through its network of more than 140 christian radio stations. most of the pastors that lane’s organization brought to lynchburg had not met jindal. but they said he captured their interest recently when he stepped forward to defend phil robertson, patriarch of the “duck dynasty” television-show family, amid a controversy over disparaging remarks he made about gays in an interview with gq magazine. throughout his lynchburg visit, jindal presented himself as a willing culture warrior. during his commencement address saturday, he took up the cause of twin brothers whose hgtv reality series about renovating and reselling houses, “flip it forward,” was canceled last week after a web site revealed that they had protested against same-sex marriage at the 2012 democratic national convention in charlotte. the siblings, jason and david benham, both liberty graduates, attended the graduation and a private lunch with jindal, who called the action against them “another demonstration of intolerance from the entertainment industry.” “if these guys had protested at the republican party convention, instead of canceling their show, hgtv would probably have given them a raise,” jindal said as the liberty crowd applauded. he cited the hobby lobby craft store chain, which faced a legal challenge after refusing to provide employees with insurance coverage for contraceptives as required under the affordable care act. members of the family that owns hobby lobby, who have become heroes to many religious conservatives, have said that they are morally opposed to the use of certain types of birth control and that they considered the requirement a violation of their first amendment right to religious freedom. the family was “committed to honor the lord by being generous employers, paying well above minimum wage and increasing salaries four years in a row even in the midst of the enduring recession,” jindal told the liberty graduates. “none of this matters to the obama administration.” but for the pastors who came to see jindal in action, the governor’s own story was the highlight of the weekend. and in many ways, he was unlike any other aspiring president these activists had met. piyush jindal was born in 1971, four months after his parents arrived in baton rouge, la., from their native india. he changed his name to bobby as a young boy, adopting the name of a character on a favorite television show, “the brady bunch.” his decision to become a christian, he told the pastors, did not come in one moment of lightning epiphany. instead, he said, it happened in phases, growing from small seeds planted over time. jindal recalled that his closest friend from grade school gave him a bible with his name emblazoned in gold on the cover as a christmas present. it struck him initially as an unimpressive gift, jindal told the pastors. “who in the world would spend good money for a bible when everyone knows you can get one free in any hotel?” he recalled thinking at the time. “and the gold lettering meant i couldn’t give it away or return it.” his religious education reached a higher plane during his junior year in high school, he told his dinner audience. he wanted to ask a pretty girl on a date during a hallway conversation, and she started talking about her faith in god and her opposition to abortion. the girl invited him to visit her church. jindal said he was skeptical and set out to “investigate all these fanciful claims” made by the girl and other friends. he started reading the bible in his closet at home. “i was unsure how my parents would react,” he said. after the stirring moment when he saw christ depicted on the cross during the religious movie, the bible and his very existence suddenly seemed clearer to him, jindal told the pastors. jindal did not dwell on his subsequent conversion to catholicism just a few years later in college, where he said he immersed himself in the traditions of the church. he touched on it briefly during the commencement address, noting in passing that “i am best described as an evangelical catholic.” mostly, he sought to showcase the ways in which he shares values with other christian conservatives. “i read the words of jesus christ, and i realized that they were true,” jindal told the graduates saturday, offering a less detailed accounting of his conversion than he had done the night before with the pastors. “i used to think that i had found god, but i believe it is more accurate to say that he found me.”",
         "0"
        ],
        [
         "3",
         "4",
         "satan 2: russia unvelis an image of its terrifying new ‘supernuke’ – western world takes notice",
         "the rs-28 sarmat missile, dubbed satan 2, will replace the ss-18 flies at 4.3 miles (7km) per sec and with a range of 6,213 miles (10,000km) the weapons are perceived as part of an increasingly aggressive russia it could deliver a warhead of 40 megatons – 2,000 times as powerful as the atom bombs dropped on hiroshima and nagasaki in 1945 by libby plummer and gareth davie s russia has unveiled chilling pictures of its largest ever nuclear missile, capable of destroying an area the size of france. the rs-28 sarmat missile, dubbed satan 2 by nato, has a top speed of 4.3 miles (7km) per second and has been designed to outfox anti-missile shield systems. the new sarmat missile could deliver warheads of 40 megatons – 2,000 times as powerful as the atom bombs dropped on hiroshima and nagasaki in 1945. scroll down for video russian president vladimir putin is reportedly planning to replace the country’s older ss-18 satan weapons with the new missiles amid a string of recent disagreements with the west. the kremlin has stepped up the rhetoric against the west and carried a series of manoeuvres that has infuriated politicians in the us and uk. the pictures were revealed online by chief designers from the makeyev rocket design bureau. a message posted alongside the picture said: ‘in accordance with the decree of the russian government ‘on the state defense order for 2010 and the planning period 2012-2013’, the makeyev rocket design bureau was instructed to start design and development work on the sarmat. ‘ the rs-28 sarmat missile is said to contain 16 nuclear warheads and is capable of destroying an area the size of france or texas, according to russian news network zvezda, which is owned by russia’s ministry of defence. the weapon is also able to evade radar. it is expected to have a range of 6,213 miles (10,000 km), which would allow moscow to attack london and for entire article click link",
         "1"
        ],
        [
         "4",
         "5",
         "about time! christian group sues amazon and splc for designation as hate group",
         "all we can say on this one is it s about time someone sued the southern poverty law center!on tuesday, d. james kennedy ministries (djkm) filed a lawsuit against the southern poverty law center (splc), the charity navigation organization guidestar, and amazon, for defamation, religious discrimination, and trafficking in falsehood. the splc listed djkm as a hate group, while guidestar also categorized it in those terms, and amazon kept the ministry off of its charity donation program, amazon smile. we embarked today on a journey to right a terrible wrong, dr. frank wright, president and ceo at djkm, said in a statement tuesday. those who knowingly label christian ministries as hate groups, solely for subscribing to the historic christian faith, are either woefully uninformed or willfully deceitful. in the case of the southern poverty law center, our lawsuit alleges the latter. the splc has labeled djkm an anti-lgbt hate group for its opposition to same-sex marriage and transgenderism. these false and illegal characterizations have a chilling effect on the free exercise of religion and on religious free speech for all people of faith, wright declared. after having given the splc an opportunity to retract, we have undertaken this legal action, seeking a trial by a jury of our peers, to preserve our own rights under the law and to defend the religious free speech rights of all americans, the djkm president concluded.the lawsuit laid out charges against the splc, guidestar, and amazon.read more: pjm",
         "1"
        ]
       ],
       "shape": {
        "columns": 4,
        "rows": 5
       }
      },
      "text/html": [
       "<div>\n",
       "<style scoped>\n",
       "    .dataframe tbody tr th:only-of-type {\n",
       "        vertical-align: middle;\n",
       "    }\n",
       "\n",
       "    .dataframe tbody tr th {\n",
       "        vertical-align: top;\n",
       "    }\n",
       "\n",
       "    .dataframe thead th {\n",
       "        text-align: right;\n",
       "    }\n",
       "</style>\n",
       "<table border=\"1\" class=\"dataframe\">\n",
       "  <thead>\n",
       "    <tr style=\"text-align: right;\">\n",
       "      <th></th>\n",
       "      <th>Unnamed: 0</th>\n",
       "      <th>title</th>\n",
       "      <th>text</th>\n",
       "      <th>label</th>\n",
       "    </tr>\n",
       "  </thead>\n",
       "  <tbody>\n",
       "    <tr>\n",
       "      <th>0</th>\n",
       "      <td>0</td>\n",
       "      <td>law enforcement on high alert following threat...</td>\n",
       "      <td>no comment is expected from barack obama membe...</td>\n",
       "      <td>1</td>\n",
       "    </tr>\n",
       "    <tr>\n",
       "      <th>1</th>\n",
       "      <td>2</td>\n",
       "      <td>unbelievable! obama’s attorney general says mo...</td>\n",
       "      <td>now, most of the demonstrators gathered last n...</td>\n",
       "      <td>1</td>\n",
       "    </tr>\n",
       "    <tr>\n",
       "      <th>2</th>\n",
       "      <td>3</td>\n",
       "      <td>bobby jindal, raised hindu, uses story of chri...</td>\n",
       "      <td>a dozen politically active pastors came here f...</td>\n",
       "      <td>0</td>\n",
       "    </tr>\n",
       "    <tr>\n",
       "      <th>3</th>\n",
       "      <td>4</td>\n",
       "      <td>satan 2: russia unvelis an image of its terrif...</td>\n",
       "      <td>the rs-28 sarmat missile, dubbed satan 2, will...</td>\n",
       "      <td>1</td>\n",
       "    </tr>\n",
       "    <tr>\n",
       "      <th>4</th>\n",
       "      <td>5</td>\n",
       "      <td>about time! christian group sues amazon and sp...</td>\n",
       "      <td>all we can say on this one is it s about time ...</td>\n",
       "      <td>1</td>\n",
       "    </tr>\n",
       "  </tbody>\n",
       "</table>\n",
       "</div>"
      ],
      "text/plain": [
       "   Unnamed: 0                                              title  \\\n",
       "0           0  law enforcement on high alert following threat...   \n",
       "1           2  unbelievable! obama’s attorney general says mo...   \n",
       "2           3  bobby jindal, raised hindu, uses story of chri...   \n",
       "3           4  satan 2: russia unvelis an image of its terrif...   \n",
       "4           5  about time! christian group sues amazon and sp...   \n",
       "\n",
       "                                                text  label  \n",
       "0  no comment is expected from barack obama membe...      1  \n",
       "1  now, most of the demonstrators gathered last n...      1  \n",
       "2  a dozen politically active pastors came here f...      0  \n",
       "3  the rs-28 sarmat missile, dubbed satan 2, will...      1  \n",
       "4  all we can say on this one is it s about time ...      1  "
      ]
     },
     "execution_count": 77,
     "metadata": {},
     "output_type": "execute_result"
    }
   ],
   "source": [
    "df.head()"
   ]
  },
  {
   "cell_type": "code",
   "execution_count": 78,
   "id": "d11e2515",
   "metadata": {},
   "outputs": [
    {
     "data": {
      "application/vnd.microsoft.datawrangler.viewer.v0+json": {
       "columns": [
        {
         "name": "index",
         "rawType": "object",
         "type": "string"
        },
        {
         "name": "0",
         "rawType": "int64",
         "type": "integer"
        }
       ],
       "ref": "c4cbe08f-473f-4dce-a779-dedf5fab948a",
       "rows": [
        [
         "Unnamed: 0",
         "0"
        ],
        [
         "title",
         "0"
        ],
        [
         "text",
         "744"
        ],
        [
         "label",
         "0"
        ]
       ],
       "shape": {
        "columns": 1,
        "rows": 4
       }
      },
      "text/plain": [
       "Unnamed: 0      0\n",
       "title           0\n",
       "text          744\n",
       "label           0\n",
       "dtype: int64"
      ]
     },
     "execution_count": 78,
     "metadata": {},
     "output_type": "execute_result"
    }
   ],
   "source": [
    "df.isna().sum()"
   ]
  },
  {
   "cell_type": "code",
   "execution_count": 79,
   "id": "a2eecd32",
   "metadata": {},
   "outputs": [],
   "source": [
    "df.dropna(inplace = True)"
   ]
  },
  {
   "cell_type": "code",
   "execution_count": 80,
   "id": "32124bbc",
   "metadata": {},
   "outputs": [
    {
     "data": {
      "image/png": "[encoded data removed]",
      "text/plain": [
       "<Figure size 800x550 with 1 Axes>"
      ]
     },
     "metadata": {},
     "output_type": "display_data"
    }
   ],
   "source": [
    "# Create the bar plot\n",
    "ax = sns.barplot(x=df['label'].value_counts().index, \n",
    "                 y=df['label'].value_counts().values)\n",
    "plt.title(\"Class distribution\")\n",
    "\n",
    "# Add legend\n",
    "plt.legend(['Fake:0', 'Real:1'], loc='center', fontsize='medium', \n",
    "           frameon=True, facecolor='lightyellow', title='Class Legend')\n",
    "\n",
    "# Add labels above each bar\n",
    "for p in ax.patches:\n",
    "    ax.annotate(f'{int(p.get_height())}', \n",
    "                (p.get_x() + p.get_width() / 2., p.get_height()), \n",
    "                ha='center', va='center', \n",
    "                xytext=(0, 5), \n",
    "                textcoords='offset points')\n",
    "\n",
    "plt.tight_layout()\n",
    "plt.show()"
   ]
  },
  {
   "cell_type": "code",
   "execution_count": 81,
   "id": "78201b5f",
   "metadata": {},
   "outputs": [],
   "source": [
    "df.drop(columns = ['Unnamed: 0'], inplace = True)"
   ]
  },
  {
   "cell_type": "code",
   "execution_count": 82,
   "id": "45d9045b",
   "metadata": {},
   "outputs": [
    {
     "data": {
      "application/vnd.microsoft.datawrangler.viewer.v0+json": {
       "columns": [
        {
         "name": "index",
         "rawType": "int64",
         "type": "integer"
        },
        {
         "name": "title",
         "rawType": "object",
         "type": "string"
        },
        {
         "name": "text",
         "rawType": "object",
         "type": "string"
        },
        {
         "name": "label",
         "rawType": "int64",
         "type": "integer"
        }
       ],
       "ref": "fb0f17ef-623a-43c5-ace9-94d44f92c17a",
       "rows": [
        [
         "0",
         "law enforcement on high alert following threats against cops and whites on 9-11by #blacklivesmatter and #fyf911 terrorists [video]",
         "no comment is expected from barack obama members of the #fyf911 or #fukyoflag and #blacklivesmatter movements called for the lynching and hanging of white people and cops. they encouraged others on a radio show tuesday night to turn the tide and kill white people and cops to send a message about the killing of black people in america.one of the f***yoflag organizers is called sunshine. she has a radio blog show hosted from texas called, sunshine s f***ing opinion radio show. a snapshot of her #fyf911 @lolatwhitefear twitter page at 9:53 p.m. shows that she was urging supporters to call now!! #fyf911 tonight we continue to dismantle the illusion of white below is a snapshot twitter radio call invite #fyf911the radio show aired at 10:00 p.m. eastern standard time.during the show, callers clearly call for lynching and killing of white people.a 2:39 minute clip from the radio show can be heard here. it was provided to breitbart texas by someone who would like to be referred to as hannibal. he has already received death threats as a result of interrupting #fyf911 conference calls.an unidentified black man said when those mother f**kers are by themselves, that s when when we should start f***ing them up. like they do us, when a bunch of them ni**ers takin one of us out, that s how we should roll up. he said, cause we already roll up in gangs anyway. there should be six or seven black mother f**ckers, see that white person, and then lynch their ass. let s turn the tables. they conspired that if cops started losing people, then there will be a state of emergency. he speculated that one of two things would happen, a big-ass [r s?????] war, or ni**ers, they are going to start backin up. we are already getting killed out here so what the f**k we got to lose? sunshine could be heard saying, yep, that s true. that s so f**king true. he said, we need to turn the tables on them. our kids are getting shot out here. somebody needs to become a sacrifice on their side.he said, everybody ain t down for that s**t, or whatever, but like i say, everybody has a different position of war. he continued, because they don t give a f**k anyway. he said again, we might as well utilized them for that s**t and turn the tables on these n**ers. he said, that way we can start lookin like we ain t havin that many casualties, and there can be more causalities on their side instead of ours. they are out their killing black people, black lives don t matter, that s what those mother f**kers so we got to make it matter to them. find a mother f**ker that is alone. snap his ass, and then f***in hang him from a damn tree. take a picture of it and then send it to the mother f**kers. we just need one example, and then people will start watchin . this will turn the tables on s**t, he said. he said this will start a trickle-down effect. he said that when one white person is hung and then they are just flat-hanging, that will start the trickle-down effect. he continued, black people are good at starting trends. he said that was how to get the upper-hand. another black man spoke up saying they needed to kill cops that are killing us. the first black male said, that will be the best method right there. breitbart texas previously reported how sunshine was upset when racist white people infiltrated and disrupted one of her conference calls. she subsequently released the phone number of one of the infiltrators. the veteran immediately started receiving threatening calls.one of the #f***yoflag movement supporters allegedly told a veteran who infiltrated their publicly posted conference call, we are going to rape and gut your pregnant wife, and your f***ing piece of sh*t unborn creature will be hung from a tree. breitbart texas previously encountered sunshine at a sandra bland protest at the waller county jail in texas, where she said all white people should be killed. she told journalists and photographers, you see this nappy-ass hair on my head? that means i am one of those more militant negroes. she said she was at the protest because these redneck mother-f**kers murdered sandra bland because she had nappy hair like me. #fyf911 black radicals say they will be holding the imperial powers that are actually responsible for the terrorist attacks on september 11th accountable on that day, as reported by breitbart texas. there are several websites and twitter handles for the movement. palmetto star describes himself as one of the head organizers. he said in a youtube video that supporters will be burning their symbols of the illusion of their superiority, their false white supremacy, like the american flag, the british flag, police uniforms, and ku klux klan hoods.sierra mcgrone or nocturnus libertus posted, you too can help a young afrikan clean their a** with the rag of oppression. she posted two photos, one that appears to be herself, and a photo of a black man, wiping their naked butts with the american flag.for entire story: breitbart news",
         "1"
        ],
        [
         "1",
         "unbelievable! obama’s attorney general says most charlotte rioters were “peaceful” protesters…in her home state of north carolina [video]",
         "now, most of the demonstrators gathered last night were exercising their constitutional and protected right to peaceful protest in order to raise issues and create change. loretta lynch aka eric holder in a skirt",
         "1"
        ],
        [
         "2",
         "bobby jindal, raised hindu, uses story of christian conversion to woo evangelicals for potential 2016 bid",
         "a dozen politically active pastors came here for a private dinner friday night to hear a conversion story unique in the context of presidential politics: how louisiana gov. bobby jindal traveled from hinduism to protestant christianity and, ultimately, became what he calls an “evangelical catholic.” over two hours, jindal, 42, recalled talking with a girl in high school who wanted to “save my soul,” reading the bible in a closet so his parents would not see him and feeling a stir while watching a movie during his senior year that depicted jesus on the cross. “i was struck, and struck hard,” jindal told the pastors. “this was the son of god, and he had died for our sins.” jindal’s session with the christian clergy, who lead congregations in the early presidential battleground states of iowa and south carolina, was part of a behind-the-scenes effort by the louisiana governor to find a political base that could help propel him into the top tier of republican candidates seeking to run for the white house in 2016. known in gop circles mostly for his mastery of policy issues such as health care, jindal, a rhodes scholar and graduate of the ivy league’s brown university, does not have an obvious pool of activist supporters to help drive excitement outside his home state. so he is harnessing his religious experience in a way that has begun to appeal to parts of the gop’s influential core of religious conservatives, many of whom have yet to find a favorite among the republicans eyeing the presidential race. other potential 2016 gop candidates are wooing the evangelical base, including sens. rand paul (ky.) and ted cruz (tex.) and indiana gov. mike pence. but over the weekend in lynchburg — a mecca of sorts for evangelicals as the home of liberty university, founded in the 1970s by the rev. jerry falwell — jindal appeared to make progress. in addition to his dinner with the pastors, he delivered a well-received “call to action” address to 40,000 christian conservatives gathered for liberty’s commencement ceremony, talking again about his faith while assailing what he said was president obama’s record of attacking religious liberty. the pastors who came to meet jindal said his intimate descriptions of his experiences stood out. “he has the convictions, and he has what it takes to communicate them,” said brad sherman of solid rock christian church in coralville, iowa. sherman helped former arkansas governor mike huckabee in his winning 2008 campaign for delegates in iowa. another huckabee admirer, the rev. c. mitchell brooks of second baptist church in belton, s.c., said jindal’s commitment to christian values and his compelling story put him “on a par” with huckabee, who was a baptist preacher before entering politics. the visiting pastors flew to lynchburg over the weekend at the invitation of the american renewal project, a well-funded nonprofit group that encourages evangelical christians to engage in the civic arena with voter guides, get-out-the-vote drives and programs to train pastors in grass-roots activism. the group’s founder, david lane, has built a pastor network in politically important states such as iowa, missouri, ohio and south carolina and has led trips to israel with paul and others seeking to make inroads with evangelical activists. the group that lane invited to lynchburg included donald wild­mon, a retired minister and founder of the american family association, a prominent evangelical activist group that has influence through its network of more than 140 christian radio stations. most of the pastors that lane’s organization brought to lynchburg had not met jindal. but they said he captured their interest recently when he stepped forward to defend phil robertson, patriarch of the “duck dynasty” television-show family, amid a controversy over disparaging remarks he made about gays in an interview with gq magazine. throughout his lynchburg visit, jindal presented himself as a willing culture warrior. during his commencement address saturday, he took up the cause of twin brothers whose hgtv reality series about renovating and reselling houses, “flip it forward,” was canceled last week after a web site revealed that they had protested against same-sex marriage at the 2012 democratic national convention in charlotte. the siblings, jason and david benham, both liberty graduates, attended the graduation and a private lunch with jindal, who called the action against them “another demonstration of intolerance from the entertainment industry.” “if these guys had protested at the republican party convention, instead of canceling their show, hgtv would probably have given them a raise,” jindal said as the liberty crowd applauded. he cited the hobby lobby craft store chain, which faced a legal challenge after refusing to provide employees with insurance coverage for contraceptives as required under the affordable care act. members of the family that owns hobby lobby, who have become heroes to many religious conservatives, have said that they are morally opposed to the use of certain types of birth control and that they considered the requirement a violation of their first amendment right to religious freedom. the family was “committed to honor the lord by being generous employers, paying well above minimum wage and increasing salaries four years in a row even in the midst of the enduring recession,” jindal told the liberty graduates. “none of this matters to the obama administration.” but for the pastors who came to see jindal in action, the governor’s own story was the highlight of the weekend. and in many ways, he was unlike any other aspiring president these activists had met. piyush jindal was born in 1971, four months after his parents arrived in baton rouge, la., from their native india. he changed his name to bobby as a young boy, adopting the name of a character on a favorite television show, “the brady bunch.” his decision to become a christian, he told the pastors, did not come in one moment of lightning epiphany. instead, he said, it happened in phases, growing from small seeds planted over time. jindal recalled that his closest friend from grade school gave him a bible with his name emblazoned in gold on the cover as a christmas present. it struck him initially as an unimpressive gift, jindal told the pastors. “who in the world would spend good money for a bible when everyone knows you can get one free in any hotel?” he recalled thinking at the time. “and the gold lettering meant i couldn’t give it away or return it.” his religious education reached a higher plane during his junior year in high school, he told his dinner audience. he wanted to ask a pretty girl on a date during a hallway conversation, and she started talking about her faith in god and her opposition to abortion. the girl invited him to visit her church. jindal said he was skeptical and set out to “investigate all these fanciful claims” made by the girl and other friends. he started reading the bible in his closet at home. “i was unsure how my parents would react,” he said. after the stirring moment when he saw christ depicted on the cross during the religious movie, the bible and his very existence suddenly seemed clearer to him, jindal told the pastors. jindal did not dwell on his subsequent conversion to catholicism just a few years later in college, where he said he immersed himself in the traditions of the church. he touched on it briefly during the commencement address, noting in passing that “i am best described as an evangelical catholic.” mostly, he sought to showcase the ways in which he shares values with other christian conservatives. “i read the words of jesus christ, and i realized that they were true,” jindal told the graduates saturday, offering a less detailed accounting of his conversion than he had done the night before with the pastors. “i used to think that i had found god, but i believe it is more accurate to say that he found me.”",
         "0"
        ],
        [
         "3",
         "satan 2: russia unvelis an image of its terrifying new ‘supernuke’ – western world takes notice",
         "the rs-28 sarmat missile, dubbed satan 2, will replace the ss-18 flies at 4.3 miles (7km) per sec and with a range of 6,213 miles (10,000km) the weapons are perceived as part of an increasingly aggressive russia it could deliver a warhead of 40 megatons – 2,000 times as powerful as the atom bombs dropped on hiroshima and nagasaki in 1945 by libby plummer and gareth davie s russia has unveiled chilling pictures of its largest ever nuclear missile, capable of destroying an area the size of france. the rs-28 sarmat missile, dubbed satan 2 by nato, has a top speed of 4.3 miles (7km) per second and has been designed to outfox anti-missile shield systems. the new sarmat missile could deliver warheads of 40 megatons – 2,000 times as powerful as the atom bombs dropped on hiroshima and nagasaki in 1945. scroll down for video russian president vladimir putin is reportedly planning to replace the country’s older ss-18 satan weapons with the new missiles amid a string of recent disagreements with the west. the kremlin has stepped up the rhetoric against the west and carried a series of manoeuvres that has infuriated politicians in the us and uk. the pictures were revealed online by chief designers from the makeyev rocket design bureau. a message posted alongside the picture said: ‘in accordance with the decree of the russian government ‘on the state defense order for 2010 and the planning period 2012-2013’, the makeyev rocket design bureau was instructed to start design and development work on the sarmat. ‘ the rs-28 sarmat missile is said to contain 16 nuclear warheads and is capable of destroying an area the size of france or texas, according to russian news network zvezda, which is owned by russia’s ministry of defence. the weapon is also able to evade radar. it is expected to have a range of 6,213 miles (10,000 km), which would allow moscow to attack london and for entire article click link",
         "1"
        ],
        [
         "4",
         "about time! christian group sues amazon and splc for designation as hate group",
         "all we can say on this one is it s about time someone sued the southern poverty law center!on tuesday, d. james kennedy ministries (djkm) filed a lawsuit against the southern poverty law center (splc), the charity navigation organization guidestar, and amazon, for defamation, religious discrimination, and trafficking in falsehood. the splc listed djkm as a hate group, while guidestar also categorized it in those terms, and amazon kept the ministry off of its charity donation program, amazon smile. we embarked today on a journey to right a terrible wrong, dr. frank wright, president and ceo at djkm, said in a statement tuesday. those who knowingly label christian ministries as hate groups, solely for subscribing to the historic christian faith, are either woefully uninformed or willfully deceitful. in the case of the southern poverty law center, our lawsuit alleges the latter. the splc has labeled djkm an anti-lgbt hate group for its opposition to same-sex marriage and transgenderism. these false and illegal characterizations have a chilling effect on the free exercise of religion and on religious free speech for all people of faith, wright declared. after having given the splc an opportunity to retract, we have undertaken this legal action, seeking a trial by a jury of our peers, to preserve our own rights under the law and to defend the religious free speech rights of all americans, the djkm president concluded.the lawsuit laid out charges against the splc, guidestar, and amazon.read more: pjm",
         "1"
        ]
       ],
       "shape": {
        "columns": 3,
        "rows": 5
       }
      },
      "text/html": [
       "<div>\n",
       "<style scoped>\n",
       "    .dataframe tbody tr th:only-of-type {\n",
       "        vertical-align: middle;\n",
       "    }\n",
       "\n",
       "    .dataframe tbody tr th {\n",
       "        vertical-align: top;\n",
       "    }\n",
       "\n",
       "    .dataframe thead th {\n",
       "        text-align: right;\n",
       "    }\n",
       "</style>\n",
       "<table border=\"1\" class=\"dataframe\">\n",
       "  <thead>\n",
       "    <tr style=\"text-align: right;\">\n",
       "      <th></th>\n",
       "      <th>title</th>\n",
       "      <th>text</th>\n",
       "      <th>label</th>\n",
       "    </tr>\n",
       "  </thead>\n",
       "  <tbody>\n",
       "    <tr>\n",
       "      <th>0</th>\n",
       "      <td>law enforcement on high alert following threat...</td>\n",
       "      <td>no comment is expected from barack obama membe...</td>\n",
       "      <td>1</td>\n",
       "    </tr>\n",
       "    <tr>\n",
       "      <th>1</th>\n",
       "      <td>unbelievable! obama’s attorney general says mo...</td>\n",
       "      <td>now, most of the demonstrators gathered last n...</td>\n",
       "      <td>1</td>\n",
       "    </tr>\n",
       "    <tr>\n",
       "      <th>2</th>\n",
       "      <td>bobby jindal, raised hindu, uses story of chri...</td>\n",
       "      <td>a dozen politically active pastors came here f...</td>\n",
       "      <td>0</td>\n",
       "    </tr>\n",
       "    <tr>\n",
       "      <th>3</th>\n",
       "      <td>satan 2: russia unvelis an image of its terrif...</td>\n",
       "      <td>the rs-28 sarmat missile, dubbed satan 2, will...</td>\n",
       "      <td>1</td>\n",
       "    </tr>\n",
       "    <tr>\n",
       "      <th>4</th>\n",
       "      <td>about time! christian group sues amazon and sp...</td>\n",
       "      <td>all we can say on this one is it s about time ...</td>\n",
       "      <td>1</td>\n",
       "    </tr>\n",
       "  </tbody>\n",
       "</table>\n",
       "</div>"
      ],
      "text/plain": [
       "                                               title  \\\n",
       "0  law enforcement on high alert following threat...   \n",
       "1  unbelievable! obama’s attorney general says mo...   \n",
       "2  bobby jindal, raised hindu, uses story of chri...   \n",
       "3  satan 2: russia unvelis an image of its terrif...   \n",
       "4  about time! christian group sues amazon and sp...   \n",
       "\n",
       "                                                text  label  \n",
       "0  no comment is expected from barack obama membe...      1  \n",
       "1  now, most of the demonstrators gathered last n...      1  \n",
       "2  a dozen politically active pastors came here f...      0  \n",
       "3  the rs-28 sarmat missile, dubbed satan 2, will...      1  \n",
       "4  all we can say on this one is it s about time ...      1  "
      ]
     },
     "execution_count": 82,
     "metadata": {},
     "output_type": "execute_result"
    }
   ],
   "source": [
    "df.head()"
   ]
  },
  {
   "cell_type": "markdown",
   "id": "d2faf71c",
   "metadata": {},
   "source": [
    "Removing extra whitespaces."
   ]
  },
  {
   "cell_type": "code",
   "execution_count": 83,
   "id": "6f55d463",
   "metadata": {},
   "outputs": [
    {
     "name": "stderr",
     "output_type": "stream",
     "text": [
      "Pandas Apply: 100%|██████████| 70793/70793 [00:00<00:00, 109236.20it/s]\n",
      "Pandas Apply: 100%|██████████| 70793/70793 [00:19<00:00, 3624.97it/s]\n"
     ]
    }
   ],
   "source": [
    "def preprocess(text):\n",
    "    text = text.lower()                      \n",
    "    text = re.sub(r\"\\s+\", \" \", text)         \n",
    "    return text.strip()                      \n",
    "\n",
    "df['title'] = df['title'].swifter.apply(preprocess)\n",
    "df['text'] = df['text'].swifter.apply(preprocess)"
   ]
  },
  {
   "cell_type": "code",
   "execution_count": 84,
   "id": "9b3cf6da",
   "metadata": {},
   "outputs": [
    {
     "data": {
      "application/vnd.microsoft.datawrangler.viewer.v0+json": {
       "columns": [
        {
         "name": "index",
         "rawType": "int64",
         "type": "integer"
        },
        {
         "name": "title",
         "rawType": "object",
         "type": "string"
        },
        {
         "name": "text",
         "rawType": "object",
         "type": "string"
        },
        {
         "name": "label",
         "rawType": "int64",
         "type": "integer"
        }
       ],
       "ref": "4d880bb1-225e-4585-a233-4fe1c1c51aa5",
       "rows": [
        [
         "0",
         "law enforcement on high alert following threats against cops and whites on 9-11by #blacklivesmatter and #fyf911 terrorists [video]",
         "no comment is expected from barack obama members of the #fyf911 or #fukyoflag and #blacklivesmatter movements called for the lynching and hanging of white people and cops. they encouraged others on a radio show tuesday night to turn the tide and kill white people and cops to send a message about the killing of black people in america.one of the f***yoflag organizers is called sunshine. she has a radio blog show hosted from texas called, sunshine s f***ing opinion radio show. a snapshot of her #fyf911 @lolatwhitefear twitter page at 9:53 p.m. shows that she was urging supporters to call now!! #fyf911 tonight we continue to dismantle the illusion of white below is a snapshot twitter radio call invite #fyf911the radio show aired at 10:00 p.m. eastern standard time.during the show, callers clearly call for lynching and killing of white people.a 2:39 minute clip from the radio show can be heard here. it was provided to breitbart texas by someone who would like to be referred to as hannibal. he has already received death threats as a result of interrupting #fyf911 conference calls.an unidentified black man said when those mother f**kers are by themselves, that s when when we should start f***ing them up. like they do us, when a bunch of them ni**ers takin one of us out, that s how we should roll up. he said, cause we already roll up in gangs anyway. there should be six or seven black mother f**ckers, see that white person, and then lynch their ass. let s turn the tables. they conspired that if cops started losing people, then there will be a state of emergency. he speculated that one of two things would happen, a big-ass [r s?????] war, or ni**ers, they are going to start backin up. we are already getting killed out here so what the f**k we got to lose? sunshine could be heard saying, yep, that s true. that s so f**king true. he said, we need to turn the tables on them. our kids are getting shot out here. somebody needs to become a sacrifice on their side.he said, everybody ain t down for that s**t, or whatever, but like i say, everybody has a different position of war. he continued, because they don t give a f**k anyway. he said again, we might as well utilized them for that s**t and turn the tables on these n**ers. he said, that way we can start lookin like we ain t havin that many casualties, and there can be more causalities on their side instead of ours. they are out their killing black people, black lives don t matter, that s what those mother f**kers so we got to make it matter to them. find a mother f**ker that is alone. snap his ass, and then f***in hang him from a damn tree. take a picture of it and then send it to the mother f**kers. we just need one example, and then people will start watchin . this will turn the tables on s**t, he said. he said this will start a trickle-down effect. he said that when one white person is hung and then they are just flat-hanging, that will start the trickle-down effect. he continued, black people are good at starting trends. he said that was how to get the upper-hand. another black man spoke up saying they needed to kill cops that are killing us. the first black male said, that will be the best method right there. breitbart texas previously reported how sunshine was upset when racist white people infiltrated and disrupted one of her conference calls. she subsequently released the phone number of one of the infiltrators. the veteran immediately started receiving threatening calls.one of the #f***yoflag movement supporters allegedly told a veteran who infiltrated their publicly posted conference call, we are going to rape and gut your pregnant wife, and your f***ing piece of sh*t unborn creature will be hung from a tree. breitbart texas previously encountered sunshine at a sandra bland protest at the waller county jail in texas, where she said all white people should be killed. she told journalists and photographers, you see this nappy-ass hair on my head? that means i am one of those more militant negroes. she said she was at the protest because these redneck mother-f**kers murdered sandra bland because she had nappy hair like me. #fyf911 black radicals say they will be holding the imperial powers that are actually responsible for the terrorist attacks on september 11th accountable on that day, as reported by breitbart texas. there are several websites and twitter handles for the movement. palmetto star describes himself as one of the head organizers. he said in a youtube video that supporters will be burning their symbols of the illusion of their superiority, their false white supremacy, like the american flag, the british flag, police uniforms, and ku klux klan hoods.sierra mcgrone or nocturnus libertus posted, you too can help a young afrikan clean their a** with the rag of oppression. she posted two photos, one that appears to be herself, and a photo of a black man, wiping their naked butts with the american flag.for entire story: breitbart news",
         "1"
        ],
        [
         "1",
         "unbelievable! obama’s attorney general says most charlotte rioters were “peaceful” protesters…in her home state of north carolina [video]",
         "now, most of the demonstrators gathered last night were exercising their constitutional and protected right to peaceful protest in order to raise issues and create change. loretta lynch aka eric holder in a skirt",
         "1"
        ],
        [
         "2",
         "bobby jindal, raised hindu, uses story of christian conversion to woo evangelicals for potential 2016 bid",
         "a dozen politically active pastors came here for a private dinner friday night to hear a conversion story unique in the context of presidential politics: how louisiana gov. bobby jindal traveled from hinduism to protestant christianity and, ultimately, became what he calls an “evangelical catholic.” over two hours, jindal, 42, recalled talking with a girl in high school who wanted to “save my soul,” reading the bible in a closet so his parents would not see him and feeling a stir while watching a movie during his senior year that depicted jesus on the cross. “i was struck, and struck hard,” jindal told the pastors. “this was the son of god, and he had died for our sins.” jindal’s session with the christian clergy, who lead congregations in the early presidential battleground states of iowa and south carolina, was part of a behind-the-scenes effort by the louisiana governor to find a political base that could help propel him into the top tier of republican candidates seeking to run for the white house in 2016. known in gop circles mostly for his mastery of policy issues such as health care, jindal, a rhodes scholar and graduate of the ivy league’s brown university, does not have an obvious pool of activist supporters to help drive excitement outside his home state. so he is harnessing his religious experience in a way that has begun to appeal to parts of the gop’s influential core of religious conservatives, many of whom have yet to find a favorite among the republicans eyeing the presidential race. other potential 2016 gop candidates are wooing the evangelical base, including sens. rand paul (ky.) and ted cruz (tex.) and indiana gov. mike pence. but over the weekend in lynchburg — a mecca of sorts for evangelicals as the home of liberty university, founded in the 1970s by the rev. jerry falwell — jindal appeared to make progress. in addition to his dinner with the pastors, he delivered a well-received “call to action” address to 40,000 christian conservatives gathered for liberty’s commencement ceremony, talking again about his faith while assailing what he said was president obama’s record of attacking religious liberty. the pastors who came to meet jindal said his intimate descriptions of his experiences stood out. “he has the convictions, and he has what it takes to communicate them,” said brad sherman of solid rock christian church in coralville, iowa. sherman helped former arkansas governor mike huckabee in his winning 2008 campaign for delegates in iowa. another huckabee admirer, the rev. c. mitchell brooks of second baptist church in belton, s.c., said jindal’s commitment to christian values and his compelling story put him “on a par” with huckabee, who was a baptist preacher before entering politics. the visiting pastors flew to lynchburg over the weekend at the invitation of the american renewal project, a well-funded nonprofit group that encourages evangelical christians to engage in the civic arena with voter guides, get-out-the-vote drives and programs to train pastors in grass-roots activism. the group’s founder, david lane, has built a pastor network in politically important states such as iowa, missouri, ohio and south carolina and has led trips to israel with paul and others seeking to make inroads with evangelical activists. the group that lane invited to lynchburg included donald wild­mon, a retired minister and founder of the american family association, a prominent evangelical activist group that has influence through its network of more than 140 christian radio stations. most of the pastors that lane’s organization brought to lynchburg had not met jindal. but they said he captured their interest recently when he stepped forward to defend phil robertson, patriarch of the “duck dynasty” television-show family, amid a controversy over disparaging remarks he made about gays in an interview with gq magazine. throughout his lynchburg visit, jindal presented himself as a willing culture warrior. during his commencement address saturday, he took up the cause of twin brothers whose hgtv reality series about renovating and reselling houses, “flip it forward,” was canceled last week after a web site revealed that they had protested against same-sex marriage at the 2012 democratic national convention in charlotte. the siblings, jason and david benham, both liberty graduates, attended the graduation and a private lunch with jindal, who called the action against them “another demonstration of intolerance from the entertainment industry.” “if these guys had protested at the republican party convention, instead of canceling their show, hgtv would probably have given them a raise,” jindal said as the liberty crowd applauded. he cited the hobby lobby craft store chain, which faced a legal challenge after refusing to provide employees with insurance coverage for contraceptives as required under the affordable care act. members of the family that owns hobby lobby, who have become heroes to many religious conservatives, have said that they are morally opposed to the use of certain types of birth control and that they considered the requirement a violation of their first amendment right to religious freedom. the family was “committed to honor the lord by being generous employers, paying well above minimum wage and increasing salaries four years in a row even in the midst of the enduring recession,” jindal told the liberty graduates. “none of this matters to the obama administration.” but for the pastors who came to see jindal in action, the governor’s own story was the highlight of the weekend. and in many ways, he was unlike any other aspiring president these activists had met. piyush jindal was born in 1971, four months after his parents arrived in baton rouge, la., from their native india. he changed his name to bobby as a young boy, adopting the name of a character on a favorite television show, “the brady bunch.” his decision to become a christian, he told the pastors, did not come in one moment of lightning epiphany. instead, he said, it happened in phases, growing from small seeds planted over time. jindal recalled that his closest friend from grade school gave him a bible with his name emblazoned in gold on the cover as a christmas present. it struck him initially as an unimpressive gift, jindal told the pastors. “who in the world would spend good money for a bible when everyone knows you can get one free in any hotel?” he recalled thinking at the time. “and the gold lettering meant i couldn’t give it away or return it.” his religious education reached a higher plane during his junior year in high school, he told his dinner audience. he wanted to ask a pretty girl on a date during a hallway conversation, and she started talking about her faith in god and her opposition to abortion. the girl invited him to visit her church. jindal said he was skeptical and set out to “investigate all these fanciful claims” made by the girl and other friends. he started reading the bible in his closet at home. “i was unsure how my parents would react,” he said. after the stirring moment when he saw christ depicted on the cross during the religious movie, the bible and his very existence suddenly seemed clearer to him, jindal told the pastors. jindal did not dwell on his subsequent conversion to catholicism just a few years later in college, where he said he immersed himself in the traditions of the church. he touched on it briefly during the commencement address, noting in passing that “i am best described as an evangelical catholic.” mostly, he sought to showcase the ways in which he shares values with other christian conservatives. “i read the words of jesus christ, and i realized that they were true,” jindal told the graduates saturday, offering a less detailed accounting of his conversion than he had done the night before with the pastors. “i used to think that i had found god, but i believe it is more accurate to say that he found me.”",
         "0"
        ],
        [
         "3",
         "satan 2: russia unvelis an image of its terrifying new ‘supernuke’ – western world takes notice",
         "the rs-28 sarmat missile, dubbed satan 2, will replace the ss-18 flies at 4.3 miles (7km) per sec and with a range of 6,213 miles (10,000km) the weapons are perceived as part of an increasingly aggressive russia it could deliver a warhead of 40 megatons – 2,000 times as powerful as the atom bombs dropped on hiroshima and nagasaki in 1945 by libby plummer and gareth davie s russia has unveiled chilling pictures of its largest ever nuclear missile, capable of destroying an area the size of france. the rs-28 sarmat missile, dubbed satan 2 by nato, has a top speed of 4.3 miles (7km) per second and has been designed to outfox anti-missile shield systems. the new sarmat missile could deliver warheads of 40 megatons – 2,000 times as powerful as the atom bombs dropped on hiroshima and nagasaki in 1945. scroll down for video russian president vladimir putin is reportedly planning to replace the country’s older ss-18 satan weapons with the new missiles amid a string of recent disagreements with the west. the kremlin has stepped up the rhetoric against the west and carried a series of manoeuvres that has infuriated politicians in the us and uk. the pictures were revealed online by chief designers from the makeyev rocket design bureau. a message posted alongside the picture said: ‘in accordance with the decree of the russian government ‘on the state defense order for 2010 and the planning period 2012-2013’, the makeyev rocket design bureau was instructed to start design and development work on the sarmat. ‘ the rs-28 sarmat missile is said to contain 16 nuclear warheads and is capable of destroying an area the size of france or texas, according to russian news network zvezda, which is owned by russia’s ministry of defence. the weapon is also able to evade radar. it is expected to have a range of 6,213 miles (10,000 km), which would allow moscow to attack london and for entire article click link",
         "1"
        ],
        [
         "4",
         "about time! christian group sues amazon and splc for designation as hate group",
         "all we can say on this one is it s about time someone sued the southern poverty law center!on tuesday, d. james kennedy ministries (djkm) filed a lawsuit against the southern poverty law center (splc), the charity navigation organization guidestar, and amazon, for defamation, religious discrimination, and trafficking in falsehood. the splc listed djkm as a hate group, while guidestar also categorized it in those terms, and amazon kept the ministry off of its charity donation program, amazon smile. we embarked today on a journey to right a terrible wrong, dr. frank wright, president and ceo at djkm, said in a statement tuesday. those who knowingly label christian ministries as hate groups, solely for subscribing to the historic christian faith, are either woefully uninformed or willfully deceitful. in the case of the southern poverty law center, our lawsuit alleges the latter. the splc has labeled djkm an anti-lgbt hate group for its opposition to same-sex marriage and transgenderism. these false and illegal characterizations have a chilling effect on the free exercise of religion and on religious free speech for all people of faith, wright declared. after having given the splc an opportunity to retract, we have undertaken this legal action, seeking a trial by a jury of our peers, to preserve our own rights under the law and to defend the religious free speech rights of all americans, the djkm president concluded.the lawsuit laid out charges against the splc, guidestar, and amazon.read more: pjm",
         "1"
        ]
       ],
       "shape": {
        "columns": 3,
        "rows": 5
       }
      },
      "text/html": [
       "<div>\n",
       "<style scoped>\n",
       "    .dataframe tbody tr th:only-of-type {\n",
       "        vertical-align: middle;\n",
       "    }\n",
       "\n",
       "    .dataframe tbody tr th {\n",
       "        vertical-align: top;\n",
       "    }\n",
       "\n",
       "    .dataframe thead th {\n",
       "        text-align: right;\n",
       "    }\n",
       "</style>\n",
       "<table border=\"1\" class=\"dataframe\">\n",
       "  <thead>\n",
       "    <tr style=\"text-align: right;\">\n",
       "      <th></th>\n",
       "      <th>title</th>\n",
       "      <th>text</th>\n",
       "      <th>label</th>\n",
       "    </tr>\n",
       "  </thead>\n",
       "  <tbody>\n",
       "    <tr>\n",
       "      <th>0</th>\n",
       "      <td>law enforcement on high alert following threat...</td>\n",
       "      <td>no comment is expected from barack obama membe...</td>\n",
       "      <td>1</td>\n",
       "    </tr>\n",
       "    <tr>\n",
       "      <th>1</th>\n",
       "      <td>unbelievable! obama’s attorney general says mo...</td>\n",
       "      <td>now, most of the demonstrators gathered last n...</td>\n",
       "      <td>1</td>\n",
       "    </tr>\n",
       "    <tr>\n",
       "      <th>2</th>\n",
       "      <td>bobby jindal, raised hindu, uses story of chri...</td>\n",
       "      <td>a dozen politically active pastors came here f...</td>\n",
       "      <td>0</td>\n",
       "    </tr>\n",
       "    <tr>\n",
       "      <th>3</th>\n",
       "      <td>satan 2: russia unvelis an image of its terrif...</td>\n",
       "      <td>the rs-28 sarmat missile, dubbed satan 2, will...</td>\n",
       "      <td>1</td>\n",
       "    </tr>\n",
       "    <tr>\n",
       "      <th>4</th>\n",
       "      <td>about time! christian group sues amazon and sp...</td>\n",
       "      <td>all we can say on this one is it s about time ...</td>\n",
       "      <td>1</td>\n",
       "    </tr>\n",
       "  </tbody>\n",
       "</table>\n",
       "</div>"
      ],
      "text/plain": [
       "                                               title  \\\n",
       "0  law enforcement on high alert following threat...   \n",
       "1  unbelievable! obama’s attorney general says mo...   \n",
       "2  bobby jindal, raised hindu, uses story of chri...   \n",
       "3  satan 2: russia unvelis an image of its terrif...   \n",
       "4  about time! christian group sues amazon and sp...   \n",
       "\n",
       "                                                text  label  \n",
       "0  no comment is expected from barack obama membe...      1  \n",
       "1  now, most of the demonstrators gathered last n...      1  \n",
       "2  a dozen politically active pastors came here f...      0  \n",
       "3  the rs-28 sarmat missile, dubbed satan 2, will...      1  \n",
       "4  all we can say on this one is it s about time ...      1  "
      ]
     },
     "execution_count": 84,
     "metadata": {},
     "output_type": "execute_result"
    }
   ],
   "source": [
    "df.head()"
   ]
  },
  {
   "cell_type": "markdown",
   "id": "8114a4e5",
   "metadata": {},
   "source": [
    "Saving, this dataset (cleansed of whitespaces)."
   ]
  },
  {
   "cell_type": "code",
   "execution_count": 85,
   "id": "cf140bc3",
   "metadata": {},
   "outputs": [],
   "source": [
    "df.to_csv('../Dataset/WELFake_Dataset.csv')"
   ]
  },
  {
   "cell_type": "code",
   "execution_count": null,
   "id": "a4747ce7",
   "metadata": {},
   "outputs": [],
   "source": []
  }
 ],
 "metadata": {
  "kernelspec": {
   "display_name": "DeceptionNLP",
   "language": "python",
   "name": "python3"
  },
  "language_info": {
   "codemirror_mode": {
    "name": "ipython",
    "version": 3
   },
   "file_extension": ".py",
   "mimetype": "text/x-python",
   "name": "python",
   "nbconvert_exporter": "python",
   "pygments_lexer": "ipython3",
   "version": "3.13.5"
  }
 },
 "nbformat": 4,
 "nbformat_minor": 5
}
